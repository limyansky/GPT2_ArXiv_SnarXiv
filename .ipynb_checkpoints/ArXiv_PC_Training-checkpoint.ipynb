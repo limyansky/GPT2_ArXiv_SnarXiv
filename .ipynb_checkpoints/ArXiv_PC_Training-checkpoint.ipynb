{
 "cells": [
  {
   "cell_type": "markdown",
   "metadata": {
    "id": "a8n1JHEb-auy"
   },
   "source": [
    "# Fine-Tuning GPT2 to Generate Paper Titles\n",
    "Please read the accompanying webpage _here_ for more information.  \n",
    "\n",
    "Of particular note:  \n",
    "Due to useage restrictions in the free version of Google Colaboratory, tuning the model was not as in-depth a procedure as I would have liked."
   ]
  },
  {
   "cell_type": "markdown",
   "metadata": {
    "id": "ffB1ZqExUIJN"
   },
   "source": [
    "# Environment Setup \n",
    "- Import needed libraries"
   ]
  },
  {
   "cell_type": "code",
   "execution_count": 1,
   "metadata": {
    "id": "pvxPDR9gUVIC"
   },
   "outputs": [
    {
     "name": "stderr",
     "output_type": "stream",
     "text": [
      "2023-11-16 11:26:18.303561: I tensorflow/core/platform/cpu_feature_guard.cc:182] This TensorFlow binary is optimized to use available CPU instructions in performance-critical operations.\n",
      "To enable the following instructions: AVX_VNNI FMA, in other operations, rebuild TensorFlow with the appropriate compiler flags.\n",
      "/usr/lib/python3.11/site-packages/tqdm/auto.py:21: TqdmWarning: IProgress not found. Please update jupyter and ipywidgets. See https://ipywidgets.readthedocs.io/en/stable/user_install.html\n",
      "  from .autonotebook import tqdm as notebook_tqdm\n"
     ]
    }
   ],
   "source": [
    "import tensorflow as tf\n",
    "import json # read downloaded data file\n",
    "import re   # regular expressions\n",
    "from datasets import load_dataset, Dataset, load_from_disk\n",
    "from transformers import (GPT2TokenizerFast, TFGPT2LMHeadModel, AutoConfig,\n",
    "                          DataCollatorForLanguageModeling, pipeline)\n",
    "from tqdm import tqdm\n"
   ]
  },
  {
   "cell_type": "markdown",
   "metadata": {
    "id": "65DIrbUt-7HC"
   },
   "source": [
    "# Data\n",
    "I select a subset of paper titles pertaining to certain categories. From over two million papers, this reduces datasets to the following number of papers:  \n",
    "\n",
    "Tissues and Organs: 1992  \n",
    "Condensed Matter - Materials Science: 82,412  \n",
    "High Energy Astrophysical Phenomonea: 49,692  \n",
    "High Energy Physics - Experiment: 50,477\n",
    "\n",
    "Filtering the data takes ~3 minutes a category, making saving/loading these filtered datasets to disk preferable for debugging."
   ]
  },
  {
   "cell_type": "markdown",
   "metadata": {
    "id": "CUmmJ76yVZLk"
   },
   "source": [
    "## Filtering Data\n"
   ]
  },
  {
   "cell_type": "code",
   "execution_count": 2,
   "metadata": {
    "colab": {
     "base_uri": "https://localhost:8080/",
     "height": 0,
     "referenced_widgets": [
      "863d0debd2314afc84da19f52b09bcd1",
      "6ab5503b648c4e1b92972c502490063d",
      "e3c0bf772e6642458ad6f1ddea6573f1",
      "a65496e7ae764bb99aa48eb2897090b1",
      "285e6f7e179b4a50ac147552e9308e6e",
      "cc201049f27549c393dc7c1ffe672cbb",
      "ea367307b4b9455cab80be6037a714d8",
      "ce62588348e94c968b93ab513c2640fd",
      "a50d837c8ead4b56ab54363171d80934",
      "ba2f902b13a04647ad2d9fdda6eb7454",
      "6d4afddf26604ff8ada3b5451eb2d578",
      "830deca1a7834c8081f38c0071c52847",
      "b45538c422d54d9894d88e9e4b316e83",
      "0fec9f3eddf541608064238e63014a1f",
      "e834f41a921341b3ac42f0379ab52d6b",
      "931205ce76f04f258411ac2f2b85d455",
      "d88b2e41f8084e3da07a152138856165",
      "d56463e891bd44a18512b36787b2fd5e",
      "5f42ce67ea57412b9dd258f86f40b803",
      "afab1ce894d54e8f92505ebe88af03b3",
      "31cb4be8aaf3403887b1225eee419649",
      "13cd2ccfc27b4687b47e424efffaea3c",
      "18e33da7cc8c45d19dfa1517c3e01b08",
      "f9cfb4eb47794c8c9e97d64942b2033b",
      "a258601461594b87aa88c01a6f96057f",
      "8a8245941d1342528796a87c14b11aa3",
      "ac1728b8dbed4d269188d03aeabf48ad",
      "462e51d433764bbaab4b0d7ffa4144be",
      "ac7f4daf777d405da2f3f84ef9bd3f8d",
      "a85441508a9c4491b2fd8bb6159016d9",
      "4b1f12735f774c099a318efc1357794d",
      "3a0e3a3ef94845aeafb55b0b275abf55",
      "ecc3e94a19d945c2a637da4a80afaa64"
     ]
    },
    "id": "SOZilxT-vniF",
    "outputId": "dd648d2d-4548-4f52-e946-27959b81a67a"
   },
   "outputs": [
    {
     "name": "stderr",
     "output_type": "stream",
     "text": [
      "/usr/lib/python3.11/site-packages/datasets/table.py:1421: FutureWarning: promote has been superseded by mode='default'.\n",
      "  table = cls._concat_blocks(blocks, axis=0)\n"
     ]
    }
   ],
   "source": [
    "json_file = './data/raw/arxiv-metadata-oai-snapshot.json'\n",
    "\n",
    "# Note - need to set \"split\", but all the data is loaded\n",
    "data_all = load_dataset('json', data_files=json_file, split='train')"
   ]
  },
  {
   "cell_type": "code",
   "execution_count": 3,
   "metadata": {
    "id": "Kjm4ql7j-_cI"
   },
   "outputs": [],
   "source": [
    "tissue_tag = 'q-bio.TO'\n",
    "materials_science_tag = 'cond-mat.mtrl-sci'\n",
    "astro_tag = 'astro-ph.HE'\n",
    "hepEX_tag = 'hep-ex'\n",
    "\n",
    "def search_cat(in_data, tag):\n",
    "  orig_keys = list(in_data.features.keys())\n",
    "  remove_keys = [to_delete for to_delete in orig_keys if to_delete != 'title']\n",
    "\n",
    "  out_data = in_data.filter(lambda item: tag in item['categories'])\n",
    "  out_data = out_data.map(remove_columns=remove_keys)\n",
    "  \n",
    "  return out_data\n",
    "\n",
    "# tissues_organs   = search_cat(data_all, tissue_tag)\n",
    "condensed_matter = search_cat(data_all, materials_science_tag)\n",
    "# astrophysics     = search_cat(data_all, astro_tag)\n",
    "# hepEX            = search_cat(data_all, hepEX_tag)\n"
   ]
  },
  {
   "cell_type": "code",
   "execution_count": 4,
   "metadata": {
    "id": "7QLXD_60xzu6"
   },
   "outputs": [
    {
     "ename": "NameError",
     "evalue": "name 'tissues_organs' is not defined",
     "output_type": "error",
     "traceback": [
      "\u001b[0;31m---------------------------------------------------------------------------\u001b[0m",
      "\u001b[0;31mNameError\u001b[0m                                 Traceback (most recent call last)",
      "Cell \u001b[0;32mIn[4], line 2\u001b[0m\n\u001b[1;32m      1\u001b[0m path \u001b[38;5;241m=\u001b[39m \u001b[38;5;124m\"\u001b[39m\u001b[38;5;124m./data/interim/\u001b[39m\u001b[38;5;124m\"\u001b[39m\n\u001b[0;32m----> 2\u001b[0m \u001b[43mtissues_organs\u001b[49m\u001b[38;5;241m.\u001b[39msave_to_disk(path \u001b[38;5;241m+\u001b[39m \u001b[38;5;124m'\u001b[39m\u001b[38;5;124mtissues_organs.hf\u001b[39m\u001b[38;5;124m'\u001b[39m)\n\u001b[1;32m      3\u001b[0m condensed_matter\u001b[38;5;241m.\u001b[39msave_to_disk(path \u001b[38;5;241m+\u001b[39m \u001b[38;5;124m'\u001b[39m\u001b[38;5;124mcondensed_matter.hf\u001b[39m\u001b[38;5;124m'\u001b[39m)\n\u001b[1;32m      4\u001b[0m hepEX\u001b[38;5;241m.\u001b[39msave_to_disk(path \u001b[38;5;241m+\u001b[39m \u001b[38;5;124m'\u001b[39m\u001b[38;5;124mhepEX.hf\u001b[39m\u001b[38;5;124m'\u001b[39m)\n",
      "\u001b[0;31mNameError\u001b[0m: name 'tissues_organs' is not defined"
     ]
    }
   ],
   "source": [
    "path = \"./data/interim/\"\n",
    "tissues_organs.save_to_disk(path + 'tissues_organs.hf')\n",
    "condensed_matter.save_to_disk(path + 'condensed_matter.hf')\n",
    "hepEX.save_to_disk(path + 'hepEX.hf')\n",
    "astrophysics.save_to_disk(path + 'astrophysics.hf')"
   ]
  },
  {
   "cell_type": "markdown",
   "metadata": {
    "id": "AGJAP0wchW5v"
   },
   "source": [
    "## Loading Filtered Data"
   ]
  },
  {
   "cell_type": "code",
   "execution_count": 5,
   "metadata": {
    "id": "YJUsRFb8hTih"
   },
   "outputs": [],
   "source": [
    "path = \"./data/interim/\"\n",
    "tissues_organs   = load_from_disk(path + 'tissues_organs.hf')\n",
    "condensed_matter = load_from_disk(path + 'condensed_matter.hf')\n",
    "hepEX            = load_from_disk(path + 'hepEX.hf')\n",
    "astrophysics     = load_from_disk(path + 'astrophysics.hf')"
   ]
  },
  {
   "cell_type": "code",
   "execution_count": 6,
   "metadata": {
    "colab": {
     "base_uri": "https://localhost:8080/"
    },
    "id": "CH8dbT7tctVj",
    "outputId": "613e021e-10cc-436f-a70d-9ef95c192d11"
   },
   "outputs": [
    {
     "name": "stdout",
     "output_type": "stream",
     "text": [
      "Tissues and Organs: length 2141\n",
      "Materials Science: length 87760\n",
      "High Energy Physics - Experiment: length 51803\n",
      "High Energy Astrophysical Phenomena: length 54510\n"
     ]
    }
   ],
   "source": [
    "def print_length(name, dataset):\n",
    "  string = '{}: length {}'\n",
    "  print(string.format(name, len(dataset)))\n",
    "\n",
    "print_length('Tissues and Organs', tissues_organs)\n",
    "print_length('Materials Science', condensed_matter)\n",
    "print_length('High Energy Physics - Experiment', hepEX)\n",
    "print_length('High Energy Astrophysical Phenomena', astrophysics)"
   ]
  },
  {
   "cell_type": "markdown",
   "metadata": {
    "id": "A2QSweegi9i9"
   },
   "source": [
    "# SELECT A DATASET\n",
    "Other than \"Tissues and Organs\", these datasets are large enough to produce reasonable results with only a single training epoch. "
   ]
  },
  {
   "cell_type": "code",
   "execution_count": 7,
   "metadata": {
    "id": "F2LINuVSc8bF"
   },
   "outputs": [],
   "source": [
    "working_data = condensed_matter\n",
    "save_loc = './model/interim/condensed_matter/2023_11_16_v0'\n",
    "\n",
    "# working_data = hepEX\n",
    "# save_loc = '/content/drive/MyDrive/Colab Notebooks/ArXiv/Single_Cat/Models/hepEX'\n",
    "\n",
    "# working_data = astrophysics\n",
    "# save_loc = './model/interim/astrophysics/2023_11_15_v0'\n",
    "\n",
    "\n",
    "# This shuffles data as well. \n",
    "train_test_set = working_data.train_test_split(test_size=0.1, \n",
    "                                                seed=42)\n",
    "train = train_test_set['train']\n",
    "test = train_test_set['test']"
   ]
  },
  {
   "cell_type": "markdown",
   "metadata": {
    "id": "O9Zcid9vxbb4"
   },
   "source": [
    "# Data Processing Pipeline\n",
    "- Remove special characters from titles\n",
    "- Generate statements of the form: \n",
    "```<|startoftext|> Sparsity-certifying Graph Decompositions <|endoftext|>``` \n",
    "- Tokenize Strings"
   ]
  },
  {
   "cell_type": "markdown",
   "metadata": {
    "id": "gyIvqRDBDgk6"
   },
   "source": [
    "### Tokenizer\n",
    "I load the tokenizer and add \"start\", \"end\", and \"pad\" tokens. In particular, setting the \"pad\" token to the \"end\" token during sentence generation will cause GPT2 to generate text until the maximum length is reached. We want titles which sound like they have a natural end, and are of varying length - hence the definition of a separate padding token. However, we will have to resize GPT2 to accomidate these extra tokens (it was only trained with an \"end\" token). **Our tuned GPT2 models will need to be matched with a similarly defined tokenizer to work.** "
   ]
  },
  {
   "cell_type": "code",
   "execution_count": 8,
   "metadata": {
    "colab": {
     "base_uri": "https://localhost:8080/"
    },
    "id": "gmDXB_Op4-B7",
    "outputId": "2592be4b-3ffb-41d8-c79b-91b28577f44f"
   },
   "outputs": [],
   "source": [
    "# Load Tokenizer\n",
    "tokenizer = GPT2TokenizerFast.from_pretrained('gpt2',\n",
    "                                              eos_token='<|endoftext|>',\n",
    "                                              bos_token='<|startoftext|>',\n",
    "                                              pad_token='<pad>')\n",
    "\n",
    "def tokenize_entry(input):\n",
    "  output = tokenizer(input['training_sentence'], padding=False)\n",
    "  return output"
   ]
  },
  {
   "cell_type": "markdown",
   "metadata": {
    "id": "SoXksWCqyAks"
   },
   "source": [
    "## Pipeline Functions"
   ]
  },
  {
   "cell_type": "code",
   "execution_count": 9,
   "metadata": {
    "id": "Rl0YN86jWOIp"
   },
   "outputs": [],
   "source": [
    "def clean_txt(input_obj):\n",
    "  \"\"\" Removes special characters from a batch of strings.\n",
    "\n",
    "  Note that a batch of strings is required, and this will not work on single\n",
    "  dataset items.\n",
    "\n",
    "  Args: \n",
    "    input_obj (dict): Dictionary of strings to filter.\n",
    "\n",
    "  Returns:\n",
    "    List of strings keeping only letters, numbers, (single) spaces, and dashes.\n",
    "  \"\"\"\n",
    "  output = []\n",
    "  for string in input_obj['title']:\n",
    "    string = re.sub(r'[^a-zA-Z0-9 -]+', '', string)\n",
    "    string = re.sub(r' +', ' ', string)\n",
    "    output.append(string)\n",
    "  return output\n",
    "\n",
    "def training_string(titles):\n",
    "  \"\"\" Generates a string used to tune the natural language model.\n",
    "\n",
    "  Args: \n",
    "    \n",
    "    titles (list(str)): Titles of papers as elements in list. \n",
    "\n",
    "  Returns: \n",
    "    Lists of strings like: ['<|startoftext|> title <|endoftext|>']\n",
    "  \"\"\"\n",
    "\n",
    "  training_template = '<|startoftext|> {} <|endoftext|>'\n",
    "  output = []\n",
    "  for title in titles:\n",
    "    output.append(training_template.format(title))\n",
    "  \n",
    "  return output\n",
    "\n",
    "def process_entry(input):\n",
    "  \"\"\" Adds 'training_sentence' keys/items to dataset.\n",
    "\n",
    "  Args:\n",
    "  input (dict): A batch of data from a dataset.\n",
    "\n",
    "  Returns:\n",
    "  input with 'training_sentence' keys/items added.\n",
    "\n",
    "  \"\"\"\n",
    "  clean_title = clean_txt(input)\n",
    "  final_string = training_string(clean_title)\n",
    "  input['training_sentence'] = final_string\n",
    "  return input\n",
    "\n",
    "def proc_token(input):\n",
    "  \"\"\" Map this function to a dataset to tokenize strings.\n",
    "  \n",
    "  Args: \n",
    "  input (dict): A batch of data from a dataset.\n",
    "\n",
    "  Returns:\n",
    "  Tokenized string encodings, including attention masks.\n",
    "\n",
    "  \"\"\"\n",
    "  input = process_entry(input)\n",
    "  tokenized = tokenize_entry(input)\n",
    "  return tokenized"
   ]
  },
  {
   "cell_type": "markdown",
   "metadata": {
    "id": "Bpo2Y7w4yJMp"
   },
   "source": [
    "## Creating and running the Pipeline"
   ]
  },
  {
   "cell_type": "code",
   "execution_count": 10,
   "metadata": {
    "colab": {
     "base_uri": "https://localhost:8080/",
     "height": 0,
     "referenced_widgets": [
      "52b2487a949446c0a6d974a9ca2a1693",
      "ea1eb5471e1b4f60ab7715cfd25f6b55",
      "977ebaf0000c4f60be18bdff053565a5",
      "ff24361dab204b199c707c6bc34effa5",
      "b885adff2c9c433f866650ca6496f442",
      "0da57b5b93a546348ef21c9626e7961e",
      "2406e686cacc4473abe8a5a776b1c6aa",
      "613764dc374a4fb08ba892375dcbbfae",
      "df7ce5b943084aec88acac736bfb17ec",
      "efef9722443e481b87daf74f9fdfa6c2",
      "0cfa19c9464748c780620f37a5796ce6",
      "4db7413aeed343429505d1bcd32e5476",
      "c31dfe71e8cb436b85afc36627fb6cd4",
      "88e0ff3735054ab091d7c81034ed220c",
      "bee61af234294d75a58c0bdfde097a0d",
      "886b8188b0f84912ad8a0c9dc6f444d4",
      "4934d7a261684257868b2f6ab36f1712",
      "86cccd190dbe4055b3cd7b48284b7bd2",
      "202cd2e969404520a56ba25b82837297",
      "5ae61bce531c456890519f0da2442b22",
      "1f3c1ad02d3d41c8a3fd81d723afd4f2",
      "fc280e1361344977aaddcacc4e19e70e",
      "537e8a64880a4f8b905964c064e97ab4",
      "557c9de18b524708a78e440e17e9ceb5",
      "44e50430fd4b46c4822e1a7417747aa2",
      "18179a836e5140638d4ac4e34d701c2a",
      "4100768a5bb6483a8b9b2b477a6a48ab",
      "645836eb9c1b4b8180a1026df37da321",
      "fca787b09f1449d28d2eb686f335367c",
      "b8eb8de3496c4db4be8985c113d32f5c",
      "3c40d8b0c04844cc8ffbfa15638557a0",
      "9a393aff86e44923a658ec8175c55b9a",
      "473f741ab2ee443b9f9cb20814790027",
      "231b59e6b5144e948f904ac518a3cb6e",
      "3b0beb6dbd2c407b87afaf0cefa0b49d",
      "804da54878024dbebf9250adcd071624",
      "12450ab7d3d64de3996607ac1a41522e",
      "44a5921143ac430989386460c8c35547",
      "c17c80525b3942c9b8757944d122fc84",
      "29c77f645d83484dab16fb8237453e28",
      "3880262c59f04b11b4ddc1f1fadc9e15",
      "95985479d6524bb58ae23e4565700ce4",
      "d7dfedfd61ee4c76951b57eaba0a8290",
      "a480a8581d374817a9e5bf5c58a68ed0"
     ]
    },
    "id": "a--5T3nqyHoY",
    "outputId": "7962c67b-3de7-48ea-9396-7130be6141be"
   },
   "outputs": [
    {
     "name": "stderr",
     "output_type": "stream",
     "text": [
      "Map: 100%|██████████████████████████████████████████████████████████████████████████████████████████████████████████████████████████████████████████████████████████████████████████████████| 78984/78984 [00:01<00:00, 44719.95 examples/s]\n",
      "Map: 100%|██████████████████████████████████████████████████████████████████████████████████████████████████████████████████████████████████████████████████████████████████████████████████| 78984/78984 [00:01<00:00, 66391.83 examples/s]\n",
      "Map: 100%|████████████████████████████████████████████████████████████████████████████████████████████████████████████████████████████████████████████████████████████████████████████████████| 8776/8776 [00:00<00:00, 48039.25 examples/s]\n",
      "Map: 100%|████████████████████████████████████████████████████████████████████████████████████████████████████████████████████████████████████████████████████████████████████████████████████| 8776/8776 [00:00<00:00, 73377.16 examples/s]\n"
     ]
    }
   ],
   "source": [
    "def map_to_dataset(dataset):\n",
    "  \"\"\" Fully performs tokenization and removes extra keys\n",
    "  \"\"\"\n",
    "  dataset = dataset.map(lambda x: proc_token(x),\n",
    "                  remove_columns=['title'],\n",
    "                  batched=True,\n",
    "                  batch_size=64)\n",
    "  dataset = dataset.map(remove_columns=['training_sentence'])\n",
    "\n",
    "  return dataset\n",
    "\n",
    "train = map_to_dataset(train)\n",
    "test = map_to_dataset(test)"
   ]
  },
  {
   "cell_type": "markdown",
   "metadata": {
    "id": "3B8l5RvSp0bm"
   },
   "source": [
    "# Fine Tune the Model"
   ]
  },
  {
   "cell_type": "markdown",
   "metadata": {
    "id": "_6z3uw-GTdiN"
   },
   "source": [
    "## Load the Model\n",
    "Including a the data collator"
   ]
  },
  {
   "cell_type": "code",
   "execution_count": 11,
   "metadata": {
    "colab": {
     "base_uri": "https://localhost:8080/"
    },
    "id": "NFqt9dueB8mk",
    "outputId": "5f3074ef-386e-44f8-86a0-4014d888b990"
   },
   "outputs": [
    {
     "name": "stderr",
     "output_type": "stream",
     "text": [
      "2023-11-16 01:01:12.026134: I tensorflow/compiler/xla/stream_executor/cuda/cuda_gpu_executor.cc:995] successful NUMA node read from SysFS had negative value (-1), but there must be at least one NUMA node, so returning NUMA node zero. See more at https://github.com/torvalds/linux/blob/v6.0/Documentation/ABI/testing/sysfs-bus-pci#L344-L355\n",
      "2023-11-16 01:01:12.041071: I tensorflow/compiler/xla/stream_executor/cuda/cuda_gpu_executor.cc:995] successful NUMA node read from SysFS had negative value (-1), but there must be at least one NUMA node, so returning NUMA node zero. See more at https://github.com/torvalds/linux/blob/v6.0/Documentation/ABI/testing/sysfs-bus-pci#L344-L355\n",
      "2023-11-16 01:01:12.041171: I tensorflow/compiler/xla/stream_executor/cuda/cuda_gpu_executor.cc:995] successful NUMA node read from SysFS had negative value (-1), but there must be at least one NUMA node, so returning NUMA node zero. See more at https://github.com/torvalds/linux/blob/v6.0/Documentation/ABI/testing/sysfs-bus-pci#L344-L355\n",
      "2023-11-16 01:01:12.043492: I tensorflow/compiler/xla/stream_executor/cuda/cuda_gpu_executor.cc:995] successful NUMA node read from SysFS had negative value (-1), but there must be at least one NUMA node, so returning NUMA node zero. See more at https://github.com/torvalds/linux/blob/v6.0/Documentation/ABI/testing/sysfs-bus-pci#L344-L355\n",
      "2023-11-16 01:01:12.043568: I tensorflow/compiler/xla/stream_executor/cuda/cuda_gpu_executor.cc:995] successful NUMA node read from SysFS had negative value (-1), but there must be at least one NUMA node, so returning NUMA node zero. See more at https://github.com/torvalds/linux/blob/v6.0/Documentation/ABI/testing/sysfs-bus-pci#L344-L355\n",
      "2023-11-16 01:01:12.043612: I tensorflow/compiler/xla/stream_executor/cuda/cuda_gpu_executor.cc:995] successful NUMA node read from SysFS had negative value (-1), but there must be at least one NUMA node, so returning NUMA node zero. See more at https://github.com/torvalds/linux/blob/v6.0/Documentation/ABI/testing/sysfs-bus-pci#L344-L355\n",
      "2023-11-16 01:01:12.090957: I tensorflow/compiler/xla/stream_executor/cuda/cuda_gpu_executor.cc:995] successful NUMA node read from SysFS had negative value (-1), but there must be at least one NUMA node, so returning NUMA node zero. See more at https://github.com/torvalds/linux/blob/v6.0/Documentation/ABI/testing/sysfs-bus-pci#L344-L355\n",
      "2023-11-16 01:01:12.091037: I tensorflow/compiler/xla/stream_executor/cuda/cuda_gpu_executor.cc:995] successful NUMA node read from SysFS had negative value (-1), but there must be at least one NUMA node, so returning NUMA node zero. See more at https://github.com/torvalds/linux/blob/v6.0/Documentation/ABI/testing/sysfs-bus-pci#L344-L355\n",
      "2023-11-16 01:01:12.091087: I tensorflow/compiler/xla/stream_executor/cuda/cuda_gpu_executor.cc:995] successful NUMA node read from SysFS had negative value (-1), but there must be at least one NUMA node, so returning NUMA node zero. See more at https://github.com/torvalds/linux/blob/v6.0/Documentation/ABI/testing/sysfs-bus-pci#L344-L355\n",
      "2023-11-16 01:01:12.091129: I tensorflow/core/common_runtime/gpu/gpu_device.cc:1639] Created device /job:localhost/replica:0/task:0/device:GPU:0 with 9837 MB memory:  -> device: 0, name: NVIDIA GeForce RTX 3060, pci bus id: 0000:01:00.0, compute capability: 8.6\n",
      "2023-11-16 01:01:12.091425: I tensorflow/core/common_runtime/process_util.cc:146] Creating new thread pool with default inter op setting: 2. Tune using inter_op_parallelism_threads for best performance.\n",
      "2023-11-16 01:01:12.219143: I tensorflow/compiler/xla/stream_executor/cuda/cuda_blas.cc:606] TensorFloat-32 will be used for the matrix multiplication. This will only be logged once.\n",
      "All PyTorch model weights were used when initializing TFGPT2LMHeadModel.\n",
      "\n",
      "All the weights of TFGPT2LMHeadModel were initialized from the PyTorch model.\n",
      "If your task is similar to the task the model of the checkpoint was trained on, you can already use TFGPT2LMHeadModel for predictions without further training.\n"
     ]
    },
    {
     "name": "stdout",
     "output_type": "stream",
     "text": [
      "Model: \"tfgpt2lm_head_model\"\n",
      "_________________________________________________________________\n",
      " Layer (type)                Output Shape              Param #   \n",
      "=================================================================\n",
      " transformer (TFGPT2MainLaye  multiple                 124441344 \n",
      " r)                                                              \n",
      "                                                                 \n",
      "=================================================================\n",
      "Total params: 124,441,344\n",
      "Trainable params: 124,441,344\n",
      "Non-trainable params: 0\n",
      "_________________________________________________________________\n",
      "INFO:tensorflow:Mixed precision compatibility check (mixed_float16): OK\n",
      "Your GPU will likely run quickly with dtype policy mixed_float16 as it has compute capability of at least 7.0. Your GPU: NVIDIA GeForce RTX 3060, compute capability 8.6\n"
     ]
    },
    {
     "name": "stderr",
     "output_type": "stream",
     "text": [
      "2023-11-16 01:01:12.807361: I tensorflow/compiler/xla/stream_executor/cuda/cuda_gpu_executor.cc:995] successful NUMA node read from SysFS had negative value (-1), but there must be at least one NUMA node, so returning NUMA node zero. See more at https://github.com/torvalds/linux/blob/v6.0/Documentation/ABI/testing/sysfs-bus-pci#L344-L355\n"
     ]
    }
   ],
   "source": [
    "#https://www.kaggle.com/code/vimalpillai/finetuning-gpt2-model-tensorflow\n",
    "\n",
    "config = AutoConfig.from_pretrained(\n",
    "    'gpt2',\n",
    "    bos_token_id=tokenizer.bos_token_id,\n",
    "    eos_token_id=tokenizer.eos_token_id,\n",
    "    pad_token_id=tokenizer.pad_token_id,\n",
    "    output_hidden_states=False\n",
    ")\n",
    "\n",
    "# Load pretrained model\n",
    "gpt2_model = TFGPT2LMHeadModel.from_pretrained('gpt2', config=config)\n",
    "\n",
    "# Tell the model we changed the tokenizer\n",
    "gpt2_model.resize_token_embeddings(len(tokenizer))\n",
    "\n",
    "gpt2_model(gpt2_model.dummy_inputs) # Builds model\n",
    "gpt2_model.summary()\n",
    "\n",
    "# The optimizer to use for training.\n",
    "# These setting come from: \n",
    "# https://www.kaggle.com/code/vimalpillai/finetuning-gpt2-model-tensorflow\n",
    "# and work well.\n",
    "optimizer = tf.keras.optimizers.Adam(learning_rate=3e-5,\n",
    "                                     epsilon=1e-08, clipnorm=1.0)\n",
    "\n",
    "# Compile the model\n",
    "gpt2_model.compile(optimizer)\n",
    "\n",
    "# Train in mixed-precision float16 for speed\n",
    "tf.keras.mixed_precision.set_global_policy(\"mixed_float16\")"
   ]
  },
  {
   "cell_type": "markdown",
   "metadata": {
    "id": "zevdO85RG40r"
   },
   "source": [
    "## Convert HuggingFace dataset to TensorFlow dataset"
   ]
  },
  {
   "cell_type": "code",
   "execution_count": 12,
   "metadata": {
    "colab": {
     "base_uri": "https://localhost:8080/"
    },
    "id": "7uHt7jtN-eZc",
    "outputId": "2906e76f-2de6-44ee-8954-b5c408512d34"
   },
   "outputs": [
    {
     "name": "stderr",
     "output_type": "stream",
     "text": [
      "You're using a GPT2TokenizerFast tokenizer. Please note that with a fast tokenizer, using the `__call__` method is faster than using a method to encode the text followed by a call to the `pad` method to get a padded encoding.\n"
     ]
    }
   ],
   "source": [
    "# Prepares batches for training, such as by adding padding.\n",
    "# Uising this also takes care of needing to create training labels.\n",
    "data_collator = DataCollatorForLanguageModeling(tokenizer, mlm=False,\n",
    "                                                return_tensors='tf')\n",
    "\n",
    "# Convert the higgingface datasets to something tensorflow can work with\n",
    "tf_train = gpt2_model.prepare_tf_dataset(\n",
    "    train,\n",
    "    collate_fn=data_collator,\n",
    "    batch_size=32\n",
    ")\n",
    "\n",
    "tf_test = gpt2_model.prepare_tf_dataset(\n",
    "    test,\n",
    "    collate_fn=data_collator,\n",
    "    batch_size=32\n",
    ")"
   ]
  },
  {
   "cell_type": "markdown",
   "metadata": {
    "id": "sQve24Y5kHzc"
   },
   "source": [
    "## Perform the Fit\n",
    "One epoch takes about 10-15 minutes."
   ]
  },
  {
   "cell_type": "code",
   "execution_count": 13,
   "metadata": {
    "colab": {
     "base_uri": "https://localhost:8080/"
    },
    "id": "-bCMQQSHNdNo",
    "outputId": "48ed7f3a-9238-441c-fc9d-c681c3d9a315"
   },
   "outputs": [
    {
     "name": "stdout",
     "output_type": "stream",
     "text": [
      "Epoch 1/10\n"
     ]
    },
    {
     "name": "stderr",
     "output_type": "stream",
     "text": [
      "2023-11-16 01:03:18.878214: I tensorflow/compiler/xla/service/service.cc:168] XLA service 0x7f8d73888d70 initialized for platform CUDA (this does not guarantee that XLA will be used). Devices:\n",
      "2023-11-16 01:03:18.878231: I tensorflow/compiler/xla/service/service.cc:176]   StreamExecutor device (0): NVIDIA GeForce RTX 3060, Compute Capability 8.6\n",
      "2023-11-16 01:03:18.880657: I tensorflow/compiler/mlir/tensorflow/utils/dump_mlir_util.cc:255] disabling MLIR crash reproducer, set env var `MLIR_CRASH_REPRODUCER_DIRECTORY` to enable.\n",
      "2023-11-16 01:03:18.886979: I tensorflow/compiler/xla/stream_executor/cuda/cuda_dnn.cc:432] Loaded cuDNN version 8906\n",
      "2023-11-16 01:03:18.933834: I ./tensorflow/compiler/jit/device_compiler.h:186] Compiled cluster using XLA!  This line is logged at most once for the lifetime of the process.\n"
     ]
    },
    {
     "name": "stdout",
     "output_type": "stream",
     "text": [
      "2468/2468 [==============================] - 612s 242ms/step - loss: 3.8626\n",
      "Epoch 2/10\n",
      "2468/2468 [==============================] - 590s 239ms/step - loss: 3.2964\n",
      "Epoch 3/10\n",
      "2468/2468 [==============================] - 590s 239ms/step - loss: 3.1370\n",
      "Epoch 4/10\n",
      "2468/2468 [==============================] - 589s 239ms/step - loss: 3.0278\n",
      "Epoch 5/10\n",
      "2468/2468 [==============================] - 586s 238ms/step - loss: 2.9443\n",
      "Epoch 6/10\n",
      "2468/2468 [==============================] - 583s 236ms/step - loss: 2.8725\n",
      "Epoch 7/10\n",
      "2468/2468 [==============================] - 583s 236ms/step - loss: 2.8076\n",
      "Epoch 8/10\n",
      "2468/2468 [==============================] - 583s 236ms/step - loss: 2.7500\n",
      "Epoch 9/10\n",
      "2468/2468 [==============================] - 584s 237ms/step - loss: 2.6952\n",
      "Epoch 10/10\n",
      "2468/2468 [==============================] - 584s 237ms/step - loss: 2.6439\n"
     ]
    },
    {
     "data": {
      "text/plain": [
       "<keras.callbacks.History at 0x7f8eff50d950>"
      ]
     },
     "execution_count": 13,
     "metadata": {},
     "output_type": "execute_result"
    }
   ],
   "source": [
    "gpt2_model.fit(tf_train, epochs=10)"
   ]
  },
  {
   "cell_type": "markdown",
   "metadata": {
    "id": "x1suXv2mGE4u"
   },
   "source": [
    "## Evaluate and Save Model\n",
    "  \n",
    "Condensed Matter - Materials Science Loss: 3.42  \n",
    "High Energy Physics - Experiment Loss: 3.16  \n",
    "High Energy Astrophysical Phenomonea Loss: 3.37  \n",
    "Tissues and Organs: 4.16"
   ]
  },
  {
   "cell_type": "code",
   "execution_count": 14,
   "metadata": {
    "colab": {
     "base_uri": "https://localhost:8080/"
    },
    "id": "v8mPjblBGDXP",
    "outputId": "300d0424-6959-465d-b68c-ee4d9c386eca"
   },
   "outputs": [
    {
     "name": "stdout",
     "output_type": "stream",
     "text": [
      "274/274 [==============================] - 22s 79ms/step - loss: 2.9800\n"
     ]
    },
    {
     "data": {
      "text/plain": [
       "2.9799633026123047"
      ]
     },
     "execution_count": 14,
     "metadata": {},
     "output_type": "execute_result"
    }
   ],
   "source": [
    "gpt2_model.evaluate(tf_test)"
   ]
  },
  {
   "cell_type": "code",
   "execution_count": 15,
   "metadata": {
    "id": "0kKA2zbzlq92"
   },
   "outputs": [],
   "source": [
    "# Save the model\n",
    "gpt2_model.save_weights(save_loc)"
   ]
  },
  {
   "cell_type": "markdown",
   "metadata": {
    "id": "2E0N2H0GHYWq"
   },
   "source": [
    "# Special Case: Tissues and Organs\n",
    "Because this category of papers has only 1992 entries, it is both necessary and practical to incorporate multiple epochs into training. The following code block is essentially repeats \"Select a Dataset\" and below, but incorporates early stopping with a separate validation dataset. "
   ]
  },
  {
   "cell_type": "code",
   "execution_count": 7,
   "metadata": {
    "colab": {
     "base_uri": "https://localhost:8080/"
    },
    "id": "32oPUjMzIcT_",
    "outputId": "35b85b45-69ec-4ec3-a356-ea3eb687cf28"
   },
   "outputs": [
    {
     "name": "stderr",
     "output_type": "stream",
     "text": [
      "WARNING:datasets.arrow_dataset:Loading cached split indices for dataset at /content/drive/MyDrive/Colab Notebooks/ArXiv/Single_Cat/Data/tissues_organs.hf/cache-c6fbce57f1b6f81f.arrow and /content/drive/MyDrive/Colab Notebooks/ArXiv/Single_Cat/Data/tissues_organs.hf/cache-8bef87eb53e35522.arrow\n",
      "WARNING:datasets.arrow_dataset:Loading cached split indices for dataset at /content/drive/MyDrive/Colab Notebooks/ArXiv/Single_Cat/Data/tissues_organs.hf/cache-115bdaaa2fe8dee5.arrow and /content/drive/MyDrive/Colab Notebooks/ArXiv/Single_Cat/Data/tissues_organs.hf/cache-4368b9589a92934a.arrow\n",
      "WARNING:datasets.arrow_dataset:Loading cached processed dataset at /content/drive/MyDrive/Colab Notebooks/ArXiv/Single_Cat/Data/tissues_organs.hf/cache-c5c3f42db823ad62.arrow\n",
      "WARNING:datasets.arrow_dataset:Loading cached processed dataset at /content/drive/MyDrive/Colab Notebooks/ArXiv/Single_Cat/Data/tissues_organs.hf/cache-e88a59c8e86264ca.arrow\n",
      "WARNING:datasets.arrow_dataset:Loading cached processed dataset at /content/drive/MyDrive/Colab Notebooks/ArXiv/Single_Cat/Data/tissues_organs.hf/cache-df97cbed8ea396e0.arrow\n",
      "WARNING:datasets.arrow_dataset:Loading cached processed dataset at /content/drive/MyDrive/Colab Notebooks/ArXiv/Single_Cat/Data/tissues_organs.hf/cache-a41c8c6f0dd42b66.arrow\n",
      "WARNING:datasets.arrow_dataset:Loading cached processed dataset at /content/drive/MyDrive/Colab Notebooks/ArXiv/Single_Cat/Data/tissues_organs.hf/cache-18d5525a35a2886c.arrow\n",
      "WARNING:datasets.arrow_dataset:Loading cached processed dataset at /content/drive/MyDrive/Colab Notebooks/ArXiv/Single_Cat/Data/tissues_organs.hf/cache-9875f9db62edca27.arrow\n"
     ]
    },
    {
     "name": "stdout",
     "output_type": "stream",
     "text": [
      "Training Set: 1433\n",
      "Validation Set: 160\n",
      "Test Set: 399\n"
     ]
    },
    {
     "name": "stderr",
     "output_type": "stream",
     "text": [
      "All model checkpoint layers were used when initializing TFGPT2LMHeadModel.\n",
      "\n",
      "All the layers of TFGPT2LMHeadModel were initialized from the model checkpoint at gpt2.\n",
      "If your task is similar to the task the model of the checkpoint was trained on, you can already use TFGPT2LMHeadModel for predictions without further training.\n"
     ]
    },
    {
     "name": "stdout",
     "output_type": "stream",
     "text": [
      "Model: \"tfgpt2lm_head_model\"\n",
      "_________________________________________________________________\n",
      " Layer (type)                Output Shape              Param #   \n",
      "=================================================================\n",
      " transformer (TFGPT2MainLaye  multiple                 124441344 \n",
      " r)                                                              \n",
      "                                                                 \n",
      "=================================================================\n",
      "Total params: 124,441,344\n",
      "Trainable params: 124,441,344\n",
      "Non-trainable params: 0\n",
      "_________________________________________________________________\n"
     ]
    },
    {
     "name": "stderr",
     "output_type": "stream",
     "text": [
      "No loss specified in compile() - the model's internal loss computation will be used as the loss. Don't panic - this is a common way to train TensorFlow models in Transformers! To disable this behaviour please pass a loss argument, or explicitly pass `loss=None` if you do not want your model to compute a loss.\n",
      "You're using a GPT2TokenizerFast tokenizer. Please note that with a fast tokenizer, using the `__call__` method is faster than using a method to encode the text followed by a call to the `pad` method to get a padded encoding.\n"
     ]
    },
    {
     "name": "stdout",
     "output_type": "stream",
     "text": [
      "Epoch 1/100\n",
      "22/22 [==============================] - 73s 1s/step - loss: 20.3056 - val_loss: 4.9202\n",
      "Epoch 2/100\n",
      "22/22 [==============================] - 19s 847ms/step - loss: 4.7984 - val_loss: 4.2513\n",
      "Epoch 3/100\n",
      "22/22 [==============================] - 18s 838ms/step - loss: 4.3292 - val_loss: 4.0999\n",
      "Epoch 4/100\n",
      "22/22 [==============================] - 17s 786ms/step - loss: 4.1125 - val_loss: 4.0384\n",
      "Epoch 5/100\n",
      "22/22 [==============================] - 18s 807ms/step - loss: 3.9567 - val_loss: 4.0545\n"
     ]
    },
    {
     "data": {
      "text/plain": [
       "<keras.callbacks.History at 0x7f296c5c6490>"
      ]
     },
     "execution_count": 7,
     "metadata": {},
     "output_type": "execute_result"
    }
   ],
   "source": [
    "working_data = tissues_organs\n",
    "save_loc = '/content/drive/MyDrive/Colab Notebooks/ArXiv/Single_Cat/Models/tissues_organs'\n",
    "\n",
    "# A larger percentage is held out for evaluation\n",
    "# This shuffles data as well. \n",
    "train_test_set = working_data.train_test_split(test_size=0.2, \n",
    "                                                seed=42)\n",
    "train = train_test_set['train']\n",
    "test = train_test_set['test']\n",
    "\n",
    "# A validation set\n",
    "train_valid_set = train.train_test_split(test_size=0.1,\n",
    "                                         seed=42)\n",
    "\n",
    "train = train_valid_set['train']\n",
    "valid = train_valid_set['test']\n",
    "\n",
    "print(\"Training Set: \" + str(len(train)))\n",
    "print(\"Validation Set: \" + str(len(valid)))\n",
    "print(\"Test Set: \" + str(len(test)))\n",
    "\n",
    "def map_to_dataset(dataset):\n",
    "  \"\"\" Fully performs tokenization and removes extra keys\n",
    "  \"\"\"\n",
    "  dataset = dataset.map(lambda x: proc_token(x),\n",
    "                  remove_columns=['title'],\n",
    "                  batched=True,\n",
    "                  batch_size=64)\n",
    "  dataset = dataset.map(remove_columns=['training_sentence'])\n",
    "\n",
    "  return dataset\n",
    "\n",
    "train = map_to_dataset(train)\n",
    "valid = map_to_dataset(valid)\n",
    "test = map_to_dataset(test)\n",
    "\n",
    "config = AutoConfig.from_pretrained(\n",
    "    'gpt2',\n",
    "    bos_token_id=tokenizer.bos_token_id,\n",
    "    eos_token_id=tokenizer.eos_token_id,\n",
    "    pad_token_id=tokenizer.pad_token_id,\n",
    "    output_hidden_states=False\n",
    ")\n",
    "\n",
    "# Load pretrained model\n",
    "gpt2_model = TFGPT2LMHeadModel.from_pretrained('gpt2', config=config)\n",
    "\n",
    "# Tell the model we changed the tokenizer\n",
    "gpt2_model.resize_token_embeddings(len(tokenizer))\n",
    "\n",
    "gpt2_model(gpt2_model.dummy_inputs) # Builds model\n",
    "gpt2_model.summary()\n",
    "\n",
    "# The optimizer to use for training.\n",
    "# These setting come from: \n",
    "# https://www.kaggle.com/code/vimalpillai/finetuning-gpt2-model-tensorflow\n",
    "# and work well.\n",
    "optimizer = tf.keras.optimizers.Adam(learning_rate=3e-5,\n",
    "                                     epsilon=1e-08, clipnorm=1.0)\n",
    "\n",
    "# Compile the model\n",
    "gpt2_model.compile(optimizer)\n",
    "\n",
    "# Train in mixed-precision float16 for speed\n",
    "tf.keras.mixed_precision.set_global_policy(\"mixed_float16\")\n",
    "\n",
    "# Prepares batches for training, such as by adding padding.\n",
    "# Uising this also takes care of needing to create training labels.\n",
    "data_collator = DataCollatorForLanguageModeling(tokenizer, mlm=False,\n",
    "                                                return_tensors='tf')\n",
    "\n",
    "# Convert the higgingface datasets to something tensorflow can work with\n",
    "tf_train = gpt2_model.prepare_tf_dataset(\n",
    "    train,\n",
    "    collate_fn=data_collator,\n",
    "    batch_size=64\n",
    ")\n",
    "\n",
    "tf_valid = gpt2_model.prepare_tf_dataset(\n",
    "    valid,\n",
    "    collate_fn=data_collator,\n",
    "    batch_size=64\n",
    ")\n",
    "\n",
    "tf_test = gpt2_model.prepare_tf_dataset(\n",
    "    test,\n",
    "    collate_fn=data_collator,\n",
    "    batch_size=64\n",
    ")\n",
    "\n",
    "# Early Stopping Callback\n",
    "cb_EarlyStopping = tf.keras.callbacks.EarlyStopping(\n",
    "    monitor='val_loss',\n",
    "    restore_best_weights=True,\n",
    "    min_delta=0.1,\n",
    "    patience=2\n",
    "\n",
    ")\n",
    "\n",
    "# Fine-Tune the Model\n",
    "gpt2_model.fit(tf_train, validation_data=tf_valid,\n",
    "               epochs=100, callbacks=[cb_EarlyStopping])"
   ]
  },
  {
   "cell_type": "code",
   "execution_count": 8,
   "metadata": {
    "colab": {
     "base_uri": "https://localhost:8080/"
    },
    "id": "Ed_abyiiKVDl",
    "outputId": "793b0aac-c0e4-46cc-bbf6-b462e5a5fe8a"
   },
   "outputs": [
    {
     "name": "stdout",
     "output_type": "stream",
     "text": [
      "6/6 [==============================] - 2s 285ms/step - loss: 4.1605\n"
     ]
    },
    {
     "data": {
      "text/plain": [
       "4.160545825958252"
      ]
     },
     "execution_count": 8,
     "metadata": {},
     "output_type": "execute_result"
    }
   ],
   "source": [
    "gpt2_model.evaluate(tf_test)"
   ]
  },
  {
   "cell_type": "code",
   "execution_count": 9,
   "metadata": {
    "id": "az4sJvyWKXbm"
   },
   "outputs": [],
   "source": [
    "# Save the model\n",
    "gpt2_model.save_weights(save_loc)"
   ]
  },
  {
   "cell_type": "markdown",
   "metadata": {
    "id": "9WH_pfQfYVqM"
   },
   "source": [
    "# Generate some fake paper titles!"
   ]
  },
  {
   "cell_type": "code",
   "execution_count": 2,
   "metadata": {
    "colab": {
     "base_uri": "https://localhost:8080/"
    },
    "id": "dj2tu_AWKc2Q",
    "outputId": "1632e49e-ebf5-4708-a192-c233cae939e3"
   },
   "outputs": [
    {
     "name": "stderr",
     "output_type": "stream",
     "text": [
      "2023-11-16 11:27:17.581980: E tensorflow/compiler/xla/stream_executor/cuda/cuda_driver.cc:268] failed call to cuInit: CUDA_ERROR_UNKNOWN: unknown error\n",
      "2023-11-16 11:27:17.582033: I tensorflow/compiler/xla/stream_executor/cuda/cuda_diagnostics.cc:168] retrieving CUDA diagnostic information for host: BrentArch\n",
      "2023-11-16 11:27:17.582042: I tensorflow/compiler/xla/stream_executor/cuda/cuda_diagnostics.cc:175] hostname: BrentArch\n",
      "2023-11-16 11:27:17.582247: I tensorflow/compiler/xla/stream_executor/cuda/cuda_diagnostics.cc:199] libcuda reported version is: 545.29.2\n",
      "2023-11-16 11:27:17.582274: I tensorflow/compiler/xla/stream_executor/cuda/cuda_diagnostics.cc:203] kernel reported version is: 545.29.2\n",
      "2023-11-16 11:27:17.582281: I tensorflow/compiler/xla/stream_executor/cuda/cuda_diagnostics.cc:309] kernel version seems to match DSO: 545.29.2\n",
      "2023-11-16 11:27:17.588341: I tensorflow/core/common_runtime/process_util.cc:146] Creating new thread pool with default inter op setting: 2. Tune using inter_op_parallelism_threads for best performance.\n",
      "All PyTorch model weights were used when initializing TFGPT2LMHeadModel.\n",
      "\n",
      "All the weights of TFGPT2LMHeadModel were initialized from the PyTorch model.\n",
      "If your task is similar to the task the model of the checkpoint was trained on, you can already use TFGPT2LMHeadModel for predictions without further training.\n"
     ]
    },
    {
     "name": "stdout",
     "output_type": "stream",
     "text": [
      "Model: \"tfgpt2lm_head_model\"\n",
      "_________________________________________________________________\n",
      " Layer (type)                Output Shape              Param #   \n",
      "=================================================================\n",
      " transformer (TFGPT2MainLaye  multiple                 124441344 \n",
      " r)                                                              \n",
      "                                                                 \n",
      "=================================================================\n",
      "Total params: 124,441,344\n",
      "Trainable params: 124,441,344\n",
      "Non-trainable params: 0\n",
      "_________________________________________________________________\n"
     ]
    }
   ],
   "source": [
    "\n",
    "\n",
    "# save_loc = '/content/drive/MyDrive/Colab Notebooks/ArXiv/Single_Cat/Models/tissues_organs'\n",
    "save_loc = './model/interim/condensed_matter/2023_11_16_v0'\n",
    "# save_loc = '/content/drive/MyDrive/Colab Notebooks/ArXiv/Single_Cat/Models/hepEX'\n",
    "# save_loc = '/content/drive/MyDrive/Colab Notebooks/ArXiv/Single_Cat/Models/astrophysics'\n",
    "\n",
    "# Load model and tokenizer\n",
    "\n",
    "tokenizer = GPT2TokenizerFast.from_pretrained('gpt2',\n",
    "                                              eos_token='<|endoftext|>',\n",
    "                                              bos_token='<|startoftext|>',\n",
    "                                              pad_token='<pad>')\n",
    "\n",
    "\n",
    "config = AutoConfig.from_pretrained(\n",
    "    'gpt2',\n",
    "    bos_token_id=tokenizer.bos_token_id,\n",
    "    eos_token_id=tokenizer.eos_token_id,\n",
    "    pad_token_id=tokenizer.pad_token_id,\n",
    "    output_hidden_states=False\n",
    ")\n",
    "\n",
    "# Load pretrained model\n",
    "gpt2_model = TFGPT2LMHeadModel.from_pretrained('gpt2', config=config)\n",
    "\n",
    "# Tell the model we changed the tokenizer\n",
    "gpt2_model.resize_token_embeddings(len(tokenizer))\n",
    "\n",
    "gpt2_model(gpt2_model.dummy_inputs) # Builds model\n",
    "gpt2_model.summary()\n",
    "\n",
    "gpt2_model.load_weights(save_loc)\n",
    "\n",
    "pipe = pipeline(\n",
    "    \"text-generation\", model=gpt2_model, tokenizer=tokenizer, device=0,\n",
    "    no_repeat_ngram_size=2,\n",
    "    do_sample=True,\n",
    "    top_k=100,\n",
    "    max_length = 300,\n",
    "    top_p=0.95\n",
    ")"
   ]
  },
  {
   "cell_type": "code",
   "execution_count": 3,
   "metadata": {
    "colab": {
     "base_uri": "https://localhost:8080/"
    },
    "id": "YJ52IZhDqJsU",
    "outputId": "19a52ae7-fa84-49ee-df6e-3bcd2a314da1"
   },
   "outputs": [
    {
     "name": "stdout",
     "output_type": "stream",
     "text": [
      "Fake Titles\n"
     ]
    },
    {
     "name": "stderr",
     "output_type": "stream",
     "text": [
      "100%|███████████████████████████████████████████████████████████████████████████████████████████████████████████████████████████████████████████████████████████████████████████████████████████████████████| 10/10 [00:14<00:00,  1.41s/it]"
     ]
    },
    {
     "name": "stdout",
     "output_type": "stream",
     "text": [
      "['On the origin of the high concentration of interstitial H in the MgB2 superconductor under pressure', 'Effects of particle size and particle velocity on the thermoelectric properties of two-dimensional ferroelectrics', 'Superconductivity due to surface-mediated biaxial strain in Bi2Se3 films', 'Theoretical studies of lithium-oxide as cathode materials for lithium batteries', 'Theory of phonon softening in a metal', 'Topological Dirac semimetal in MnBi2Te4', 'Machine Learning of Density Functional Theory for Molecular Dynamics', 'Ferroelectric-free terahertz control of topological electronic properties in two-dimensional CrGeTe5', 'Quantum Confinement in a 2D Metal Matrix', 'Superconductivity induced by a charge density wave order in the insulating skutterudite Li15ZrO3']\n"
     ]
    },
    {
     "name": "stderr",
     "output_type": "stream",
     "text": [
      "\n"
     ]
    }
   ],
   "source": [
    "pipe = pipeline(\n",
    "    \"text-generation\", model=gpt2_model, tokenizer=tokenizer, device=0,\n",
    "    no_repeat_ngram_size=2,\n",
    "    do_sample=True,\n",
    "    top_k=100,\n",
    "    max_length = 300,\n",
    "    top_p=0.95\n",
    ")\n",
    "\n",
    "txt='<|startoftext|>'\n",
    "\n",
    "fake_titles = []\n",
    "\n",
    "print('Fake Titles')\n",
    "for ii in tqdm(range(10)):\n",
    "  title = pipe(txt, num_return_sequences=1)[0]['generated_text'][16:-1]\n",
    "  fake_titles.append(title)\n",
    "\n",
    "print(fake_titles)"
   ]
  },
  {
   "cell_type": "code",
   "execution_count": null,
   "metadata": {},
   "outputs": [],
   "source": []
  }
 ],
 "metadata": {
  "colab": {
   "authorship_tag": "ABX9TyOVMkUnB1GRig+F5eerZE5k",
   "include_colab_link": true,
   "mount_file_id": "1hGYW6xwhwaaToZd5VBpbSRoR8w7n3eS9",
   "provenance": []
  },
  "gpuClass": "standard",
  "kernelspec": {
   "display_name": "Python 3 (ipykernel)",
   "language": "python",
   "name": "python3"
  },
  "language_info": {
   "codemirror_mode": {
    "name": "ipython",
    "version": 3
   },
   "file_extension": ".py",
   "mimetype": "text/x-python",
   "name": "python",
   "nbconvert_exporter": "python",
   "pygments_lexer": "ipython3",
   "version": "3.11.5"
  },
  "widgets": {
   "application/vnd.jupyter.widget-state+json": {
    "0cfa19c9464748c780620f37a5796ce6": {
     "model_module": "@jupyter-widgets/controls",
     "model_module_version": "1.5.0",
     "model_name": "DescriptionStyleModel",
     "state": {
      "_model_module": "@jupyter-widgets/controls",
      "_model_module_version": "1.5.0",
      "_model_name": "DescriptionStyleModel",
      "_view_count": null,
      "_view_module": "@jupyter-widgets/base",
      "_view_module_version": "1.2.0",
      "_view_name": "StyleView",
      "description_width": ""
     }
    },
    "0da57b5b93a546348ef21c9626e7961e": {
     "model_module": "@jupyter-widgets/base",
     "model_module_version": "1.2.0",
     "model_name": "LayoutModel",
     "state": {
      "_model_module": "@jupyter-widgets/base",
      "_model_module_version": "1.2.0",
      "_model_name": "LayoutModel",
      "_view_count": null,
      "_view_module": "@jupyter-widgets/base",
      "_view_module_version": "1.2.0",
      "_view_name": "LayoutView",
      "align_content": null,
      "align_items": null,
      "align_self": null,
      "border": null,
      "bottom": null,
      "display": null,
      "flex": null,
      "flex_flow": null,
      "grid_area": null,
      "grid_auto_columns": null,
      "grid_auto_flow": null,
      "grid_auto_rows": null,
      "grid_column": null,
      "grid_gap": null,
      "grid_row": null,
      "grid_template_areas": null,
      "grid_template_columns": null,
      "grid_template_rows": null,
      "height": null,
      "justify_content": null,
      "justify_items": null,
      "left": null,
      "margin": null,
      "max_height": null,
      "max_width": null,
      "min_height": null,
      "min_width": null,
      "object_fit": null,
      "object_position": null,
      "order": null,
      "overflow": null,
      "overflow_x": null,
      "overflow_y": null,
      "padding": null,
      "right": null,
      "top": null,
      "visibility": null,
      "width": null
     }
    },
    "0fec9f3eddf541608064238e63014a1f": {
     "model_module": "@jupyter-widgets/controls",
     "model_module_version": "1.5.0",
     "model_name": "FloatProgressModel",
     "state": {
      "_dom_classes": [],
      "_model_module": "@jupyter-widgets/controls",
      "_model_module_version": "1.5.0",
      "_model_name": "FloatProgressModel",
      "_view_count": null,
      "_view_module": "@jupyter-widgets/controls",
      "_view_module_version": "1.5.0",
      "_view_name": "ProgressView",
      "bar_style": "success",
      "description": "",
      "description_tooltip": null,
      "layout": "IPY_MODEL_5f42ce67ea57412b9dd258f86f40b803",
      "max": 1,
      "min": 0,
      "orientation": "horizontal",
      "style": "IPY_MODEL_afab1ce894d54e8f92505ebe88af03b3",
      "value": 1
     }
    },
    "12450ab7d3d64de3996607ac1a41522e": {
     "model_module": "@jupyter-widgets/controls",
     "model_module_version": "1.5.0",
     "model_name": "HTMLModel",
     "state": {
      "_dom_classes": [],
      "_model_module": "@jupyter-widgets/controls",
      "_model_module_version": "1.5.0",
      "_model_name": "HTMLModel",
      "_view_count": null,
      "_view_module": "@jupyter-widgets/controls",
      "_view_module_version": "1.5.0",
      "_view_name": "HTMLView",
      "description": "",
      "description_tooltip": null,
      "layout": "IPY_MODEL_d7dfedfd61ee4c76951b57eaba0a8290",
      "placeholder": "​",
      "style": "IPY_MODEL_a480a8581d374817a9e5bf5c58a68ed0",
      "value": " 5000/5048 [00:00&lt;00:00, 15181.85 examples/s]"
     }
    },
    "13cd2ccfc27b4687b47e424efffaea3c": {
     "model_module": "@jupyter-widgets/controls",
     "model_module_version": "1.5.0",
     "model_name": "DescriptionStyleModel",
     "state": {
      "_model_module": "@jupyter-widgets/controls",
      "_model_module_version": "1.5.0",
      "_model_name": "DescriptionStyleModel",
      "_view_count": null,
      "_view_module": "@jupyter-widgets/base",
      "_view_module_version": "1.2.0",
      "_view_name": "StyleView",
      "description_width": ""
     }
    },
    "18179a836e5140638d4ac4e34d701c2a": {
     "model_module": "@jupyter-widgets/controls",
     "model_module_version": "1.5.0",
     "model_name": "HTMLModel",
     "state": {
      "_dom_classes": [],
      "_model_module": "@jupyter-widgets/controls",
      "_model_module_version": "1.5.0",
      "_model_name": "HTMLModel",
      "_view_count": null,
      "_view_module": "@jupyter-widgets/controls",
      "_view_module_version": "1.5.0",
      "_view_name": "HTMLView",
      "description": "",
      "description_tooltip": null,
      "layout": "IPY_MODEL_9a393aff86e44923a658ec8175c55b9a",
      "placeholder": "​",
      "style": "IPY_MODEL_473f741ab2ee443b9f9cb20814790027",
      "value": " 4992/5048 [00:00&lt;00:00, 6681.42 examples/s]"
     }
    },
    "18e33da7cc8c45d19dfa1517c3e01b08": {
     "model_module": "@jupyter-widgets/controls",
     "model_module_version": "1.5.0",
     "model_name": "HBoxModel",
     "state": {
      "_dom_classes": [],
      "_model_module": "@jupyter-widgets/controls",
      "_model_module_version": "1.5.0",
      "_model_name": "HBoxModel",
      "_view_count": null,
      "_view_module": "@jupyter-widgets/controls",
      "_view_module_version": "1.5.0",
      "_view_name": "HBoxView",
      "box_style": "",
      "children": [
       "IPY_MODEL_f9cfb4eb47794c8c9e97d64942b2033b",
       "IPY_MODEL_a258601461594b87aa88c01a6f96057f",
       "IPY_MODEL_8a8245941d1342528796a87c14b11aa3"
      ],
      "layout": "IPY_MODEL_ac1728b8dbed4d269188d03aeabf48ad"
     }
    },
    "1f3c1ad02d3d41c8a3fd81d723afd4f2": {
     "model_module": "@jupyter-widgets/base",
     "model_module_version": "1.2.0",
     "model_name": "LayoutModel",
     "state": {
      "_model_module": "@jupyter-widgets/base",
      "_model_module_version": "1.2.0",
      "_model_name": "LayoutModel",
      "_view_count": null,
      "_view_module": "@jupyter-widgets/base",
      "_view_module_version": "1.2.0",
      "_view_name": "LayoutView",
      "align_content": null,
      "align_items": null,
      "align_self": null,
      "border": null,
      "bottom": null,
      "display": null,
      "flex": null,
      "flex_flow": null,
      "grid_area": null,
      "grid_auto_columns": null,
      "grid_auto_flow": null,
      "grid_auto_rows": null,
      "grid_column": null,
      "grid_gap": null,
      "grid_row": null,
      "grid_template_areas": null,
      "grid_template_columns": null,
      "grid_template_rows": null,
      "height": null,
      "justify_content": null,
      "justify_items": null,
      "left": null,
      "margin": null,
      "max_height": null,
      "max_width": null,
      "min_height": null,
      "min_width": null,
      "object_fit": null,
      "object_position": null,
      "order": null,
      "overflow": null,
      "overflow_x": null,
      "overflow_y": null,
      "padding": null,
      "right": null,
      "top": null,
      "visibility": null,
      "width": null
     }
    },
    "202cd2e969404520a56ba25b82837297": {
     "model_module": "@jupyter-widgets/base",
     "model_module_version": "1.2.0",
     "model_name": "LayoutModel",
     "state": {
      "_model_module": "@jupyter-widgets/base",
      "_model_module_version": "1.2.0",
      "_model_name": "LayoutModel",
      "_view_count": null,
      "_view_module": "@jupyter-widgets/base",
      "_view_module_version": "1.2.0",
      "_view_name": "LayoutView",
      "align_content": null,
      "align_items": null,
      "align_self": null,
      "border": null,
      "bottom": null,
      "display": null,
      "flex": null,
      "flex_flow": null,
      "grid_area": null,
      "grid_auto_columns": null,
      "grid_auto_flow": null,
      "grid_auto_rows": null,
      "grid_column": null,
      "grid_gap": null,
      "grid_row": null,
      "grid_template_areas": null,
      "grid_template_columns": null,
      "grid_template_rows": null,
      "height": null,
      "justify_content": null,
      "justify_items": null,
      "left": null,
      "margin": null,
      "max_height": null,
      "max_width": null,
      "min_height": null,
      "min_width": null,
      "object_fit": null,
      "object_position": null,
      "order": null,
      "overflow": null,
      "overflow_x": null,
      "overflow_y": null,
      "padding": null,
      "right": null,
      "top": null,
      "visibility": null,
      "width": null
     }
    },
    "231b59e6b5144e948f904ac518a3cb6e": {
     "model_module": "@jupyter-widgets/controls",
     "model_module_version": "1.5.0",
     "model_name": "HBoxModel",
     "state": {
      "_dom_classes": [],
      "_model_module": "@jupyter-widgets/controls",
      "_model_module_version": "1.5.0",
      "_model_name": "HBoxModel",
      "_view_count": null,
      "_view_module": "@jupyter-widgets/controls",
      "_view_module_version": "1.5.0",
      "_view_name": "HBoxView",
      "box_style": "",
      "children": [
       "IPY_MODEL_3b0beb6dbd2c407b87afaf0cefa0b49d",
       "IPY_MODEL_804da54878024dbebf9250adcd071624",
       "IPY_MODEL_12450ab7d3d64de3996607ac1a41522e"
      ],
      "layout": "IPY_MODEL_44a5921143ac430989386460c8c35547"
     }
    },
    "2406e686cacc4473abe8a5a776b1c6aa": {
     "model_module": "@jupyter-widgets/controls",
     "model_module_version": "1.5.0",
     "model_name": "DescriptionStyleModel",
     "state": {
      "_model_module": "@jupyter-widgets/controls",
      "_model_module_version": "1.5.0",
      "_model_name": "DescriptionStyleModel",
      "_view_count": null,
      "_view_module": "@jupyter-widgets/base",
      "_view_module_version": "1.2.0",
      "_view_name": "StyleView",
      "description_width": ""
     }
    },
    "285e6f7e179b4a50ac147552e9308e6e": {
     "model_module": "@jupyter-widgets/base",
     "model_module_version": "1.2.0",
     "model_name": "LayoutModel",
     "state": {
      "_model_module": "@jupyter-widgets/base",
      "_model_module_version": "1.2.0",
      "_model_name": "LayoutModel",
      "_view_count": null,
      "_view_module": "@jupyter-widgets/base",
      "_view_module_version": "1.2.0",
      "_view_name": "LayoutView",
      "align_content": null,
      "align_items": null,
      "align_self": null,
      "border": null,
      "bottom": null,
      "display": null,
      "flex": null,
      "flex_flow": null,
      "grid_area": null,
      "grid_auto_columns": null,
      "grid_auto_flow": null,
      "grid_auto_rows": null,
      "grid_column": null,
      "grid_gap": null,
      "grid_row": null,
      "grid_template_areas": null,
      "grid_template_columns": null,
      "grid_template_rows": null,
      "height": null,
      "justify_content": null,
      "justify_items": null,
      "left": null,
      "margin": null,
      "max_height": null,
      "max_width": null,
      "min_height": null,
      "min_width": null,
      "object_fit": null,
      "object_position": null,
      "order": null,
      "overflow": null,
      "overflow_x": null,
      "overflow_y": null,
      "padding": null,
      "right": null,
      "top": null,
      "visibility": null,
      "width": null
     }
    },
    "29c77f645d83484dab16fb8237453e28": {
     "model_module": "@jupyter-widgets/controls",
     "model_module_version": "1.5.0",
     "model_name": "DescriptionStyleModel",
     "state": {
      "_model_module": "@jupyter-widgets/controls",
      "_model_module_version": "1.5.0",
      "_model_name": "DescriptionStyleModel",
      "_view_count": null,
      "_view_module": "@jupyter-widgets/base",
      "_view_module_version": "1.2.0",
      "_view_name": "StyleView",
      "description_width": ""
     }
    },
    "31cb4be8aaf3403887b1225eee419649": {
     "model_module": "@jupyter-widgets/base",
     "model_module_version": "1.2.0",
     "model_name": "LayoutModel",
     "state": {
      "_model_module": "@jupyter-widgets/base",
      "_model_module_version": "1.2.0",
      "_model_name": "LayoutModel",
      "_view_count": null,
      "_view_module": "@jupyter-widgets/base",
      "_view_module_version": "1.2.0",
      "_view_name": "LayoutView",
      "align_content": null,
      "align_items": null,
      "align_self": null,
      "border": null,
      "bottom": null,
      "display": null,
      "flex": null,
      "flex_flow": null,
      "grid_area": null,
      "grid_auto_columns": null,
      "grid_auto_flow": null,
      "grid_auto_rows": null,
      "grid_column": null,
      "grid_gap": null,
      "grid_row": null,
      "grid_template_areas": null,
      "grid_template_columns": null,
      "grid_template_rows": null,
      "height": null,
      "justify_content": null,
      "justify_items": null,
      "left": null,
      "margin": null,
      "max_height": null,
      "max_width": null,
      "min_height": null,
      "min_width": null,
      "object_fit": null,
      "object_position": null,
      "order": null,
      "overflow": null,
      "overflow_x": null,
      "overflow_y": null,
      "padding": null,
      "right": null,
      "top": null,
      "visibility": null,
      "width": null
     }
    },
    "3880262c59f04b11b4ddc1f1fadc9e15": {
     "model_module": "@jupyter-widgets/base",
     "model_module_version": "1.2.0",
     "model_name": "LayoutModel",
     "state": {
      "_model_module": "@jupyter-widgets/base",
      "_model_module_version": "1.2.0",
      "_model_name": "LayoutModel",
      "_view_count": null,
      "_view_module": "@jupyter-widgets/base",
      "_view_module_version": "1.2.0",
      "_view_name": "LayoutView",
      "align_content": null,
      "align_items": null,
      "align_self": null,
      "border": null,
      "bottom": null,
      "display": null,
      "flex": null,
      "flex_flow": null,
      "grid_area": null,
      "grid_auto_columns": null,
      "grid_auto_flow": null,
      "grid_auto_rows": null,
      "grid_column": null,
      "grid_gap": null,
      "grid_row": null,
      "grid_template_areas": null,
      "grid_template_columns": null,
      "grid_template_rows": null,
      "height": null,
      "justify_content": null,
      "justify_items": null,
      "left": null,
      "margin": null,
      "max_height": null,
      "max_width": null,
      "min_height": null,
      "min_width": null,
      "object_fit": null,
      "object_position": null,
      "order": null,
      "overflow": null,
      "overflow_x": null,
      "overflow_y": null,
      "padding": null,
      "right": null,
      "top": null,
      "visibility": null,
      "width": null
     }
    },
    "3a0e3a3ef94845aeafb55b0b275abf55": {
     "model_module": "@jupyter-widgets/base",
     "model_module_version": "1.2.0",
     "model_name": "LayoutModel",
     "state": {
      "_model_module": "@jupyter-widgets/base",
      "_model_module_version": "1.2.0",
      "_model_name": "LayoutModel",
      "_view_count": null,
      "_view_module": "@jupyter-widgets/base",
      "_view_module_version": "1.2.0",
      "_view_name": "LayoutView",
      "align_content": null,
      "align_items": null,
      "align_self": null,
      "border": null,
      "bottom": null,
      "display": null,
      "flex": null,
      "flex_flow": null,
      "grid_area": null,
      "grid_auto_columns": null,
      "grid_auto_flow": null,
      "grid_auto_rows": null,
      "grid_column": null,
      "grid_gap": null,
      "grid_row": null,
      "grid_template_areas": null,
      "grid_template_columns": null,
      "grid_template_rows": null,
      "height": null,
      "justify_content": null,
      "justify_items": null,
      "left": null,
      "margin": null,
      "max_height": null,
      "max_width": null,
      "min_height": null,
      "min_width": null,
      "object_fit": null,
      "object_position": null,
      "order": null,
      "overflow": null,
      "overflow_x": null,
      "overflow_y": null,
      "padding": null,
      "right": null,
      "top": null,
      "visibility": null,
      "width": null
     }
    },
    "3b0beb6dbd2c407b87afaf0cefa0b49d": {
     "model_module": "@jupyter-widgets/controls",
     "model_module_version": "1.5.0",
     "model_name": "HTMLModel",
     "state": {
      "_dom_classes": [],
      "_model_module": "@jupyter-widgets/controls",
      "_model_module_version": "1.5.0",
      "_model_name": "HTMLModel",
      "_view_count": null,
      "_view_module": "@jupyter-widgets/controls",
      "_view_module_version": "1.5.0",
      "_view_name": "HTMLView",
      "description": "",
      "description_tooltip": null,
      "layout": "IPY_MODEL_c17c80525b3942c9b8757944d122fc84",
      "placeholder": "​",
      "style": "IPY_MODEL_29c77f645d83484dab16fb8237453e28",
      "value": "Map:  99%"
     }
    },
    "3c40d8b0c04844cc8ffbfa15638557a0": {
     "model_module": "@jupyter-widgets/controls",
     "model_module_version": "1.5.0",
     "model_name": "ProgressStyleModel",
     "state": {
      "_model_module": "@jupyter-widgets/controls",
      "_model_module_version": "1.5.0",
      "_model_name": "ProgressStyleModel",
      "_view_count": null,
      "_view_module": "@jupyter-widgets/base",
      "_view_module_version": "1.2.0",
      "_view_name": "StyleView",
      "bar_color": null,
      "description_width": ""
     }
    },
    "4100768a5bb6483a8b9b2b477a6a48ab": {
     "model_module": "@jupyter-widgets/base",
     "model_module_version": "1.2.0",
     "model_name": "LayoutModel",
     "state": {
      "_model_module": "@jupyter-widgets/base",
      "_model_module_version": "1.2.0",
      "_model_name": "LayoutModel",
      "_view_count": null,
      "_view_module": "@jupyter-widgets/base",
      "_view_module_version": "1.2.0",
      "_view_name": "LayoutView",
      "align_content": null,
      "align_items": null,
      "align_self": null,
      "border": null,
      "bottom": null,
      "display": null,
      "flex": null,
      "flex_flow": null,
      "grid_area": null,
      "grid_auto_columns": null,
      "grid_auto_flow": null,
      "grid_auto_rows": null,
      "grid_column": null,
      "grid_gap": null,
      "grid_row": null,
      "grid_template_areas": null,
      "grid_template_columns": null,
      "grid_template_rows": null,
      "height": null,
      "justify_content": null,
      "justify_items": null,
      "left": null,
      "margin": null,
      "max_height": null,
      "max_width": null,
      "min_height": null,
      "min_width": null,
      "object_fit": null,
      "object_position": null,
      "order": null,
      "overflow": null,
      "overflow_x": null,
      "overflow_y": null,
      "padding": null,
      "right": null,
      "top": null,
      "visibility": "hidden",
      "width": null
     }
    },
    "44a5921143ac430989386460c8c35547": {
     "model_module": "@jupyter-widgets/base",
     "model_module_version": "1.2.0",
     "model_name": "LayoutModel",
     "state": {
      "_model_module": "@jupyter-widgets/base",
      "_model_module_version": "1.2.0",
      "_model_name": "LayoutModel",
      "_view_count": null,
      "_view_module": "@jupyter-widgets/base",
      "_view_module_version": "1.2.0",
      "_view_name": "LayoutView",
      "align_content": null,
      "align_items": null,
      "align_self": null,
      "border": null,
      "bottom": null,
      "display": null,
      "flex": null,
      "flex_flow": null,
      "grid_area": null,
      "grid_auto_columns": null,
      "grid_auto_flow": null,
      "grid_auto_rows": null,
      "grid_column": null,
      "grid_gap": null,
      "grid_row": null,
      "grid_template_areas": null,
      "grid_template_columns": null,
      "grid_template_rows": null,
      "height": null,
      "justify_content": null,
      "justify_items": null,
      "left": null,
      "margin": null,
      "max_height": null,
      "max_width": null,
      "min_height": null,
      "min_width": null,
      "object_fit": null,
      "object_position": null,
      "order": null,
      "overflow": null,
      "overflow_x": null,
      "overflow_y": null,
      "padding": null,
      "right": null,
      "top": null,
      "visibility": "hidden",
      "width": null
     }
    },
    "44e50430fd4b46c4822e1a7417747aa2": {
     "model_module": "@jupyter-widgets/controls",
     "model_module_version": "1.5.0",
     "model_name": "FloatProgressModel",
     "state": {
      "_dom_classes": [],
      "_model_module": "@jupyter-widgets/controls",
      "_model_module_version": "1.5.0",
      "_model_name": "FloatProgressModel",
      "_view_count": null,
      "_view_module": "@jupyter-widgets/controls",
      "_view_module_version": "1.5.0",
      "_view_name": "ProgressView",
      "bar_style": "",
      "description": "",
      "description_tooltip": null,
      "layout": "IPY_MODEL_b8eb8de3496c4db4be8985c113d32f5c",
      "max": 5048,
      "min": 0,
      "orientation": "horizontal",
      "style": "IPY_MODEL_3c40d8b0c04844cc8ffbfa15638557a0",
      "value": 5048
     }
    },
    "462e51d433764bbaab4b0d7ffa4144be": {
     "model_module": "@jupyter-widgets/base",
     "model_module_version": "1.2.0",
     "model_name": "LayoutModel",
     "state": {
      "_model_module": "@jupyter-widgets/base",
      "_model_module_version": "1.2.0",
      "_model_name": "LayoutModel",
      "_view_count": null,
      "_view_module": "@jupyter-widgets/base",
      "_view_module_version": "1.2.0",
      "_view_name": "LayoutView",
      "align_content": null,
      "align_items": null,
      "align_self": null,
      "border": null,
      "bottom": null,
      "display": null,
      "flex": null,
      "flex_flow": null,
      "grid_area": null,
      "grid_auto_columns": null,
      "grid_auto_flow": null,
      "grid_auto_rows": null,
      "grid_column": null,
      "grid_gap": null,
      "grid_row": null,
      "grid_template_areas": null,
      "grid_template_columns": null,
      "grid_template_rows": null,
      "height": null,
      "justify_content": null,
      "justify_items": null,
      "left": null,
      "margin": null,
      "max_height": null,
      "max_width": null,
      "min_height": null,
      "min_width": null,
      "object_fit": null,
      "object_position": null,
      "order": null,
      "overflow": null,
      "overflow_x": null,
      "overflow_y": null,
      "padding": null,
      "right": null,
      "top": null,
      "visibility": null,
      "width": null
     }
    },
    "473f741ab2ee443b9f9cb20814790027": {
     "model_module": "@jupyter-widgets/controls",
     "model_module_version": "1.5.0",
     "model_name": "DescriptionStyleModel",
     "state": {
      "_model_module": "@jupyter-widgets/controls",
      "_model_module_version": "1.5.0",
      "_model_name": "DescriptionStyleModel",
      "_view_count": null,
      "_view_module": "@jupyter-widgets/base",
      "_view_module_version": "1.2.0",
      "_view_name": "StyleView",
      "description_width": ""
     }
    },
    "4934d7a261684257868b2f6ab36f1712": {
     "model_module": "@jupyter-widgets/base",
     "model_module_version": "1.2.0",
     "model_name": "LayoutModel",
     "state": {
      "_model_module": "@jupyter-widgets/base",
      "_model_module_version": "1.2.0",
      "_model_name": "LayoutModel",
      "_view_count": null,
      "_view_module": "@jupyter-widgets/base",
      "_view_module_version": "1.2.0",
      "_view_name": "LayoutView",
      "align_content": null,
      "align_items": null,
      "align_self": null,
      "border": null,
      "bottom": null,
      "display": null,
      "flex": null,
      "flex_flow": null,
      "grid_area": null,
      "grid_auto_columns": null,
      "grid_auto_flow": null,
      "grid_auto_rows": null,
      "grid_column": null,
      "grid_gap": null,
      "grid_row": null,
      "grid_template_areas": null,
      "grid_template_columns": null,
      "grid_template_rows": null,
      "height": null,
      "justify_content": null,
      "justify_items": null,
      "left": null,
      "margin": null,
      "max_height": null,
      "max_width": null,
      "min_height": null,
      "min_width": null,
      "object_fit": null,
      "object_position": null,
      "order": null,
      "overflow": null,
      "overflow_x": null,
      "overflow_y": null,
      "padding": null,
      "right": null,
      "top": null,
      "visibility": null,
      "width": null
     }
    },
    "4b1f12735f774c099a318efc1357794d": {
     "model_module": "@jupyter-widgets/controls",
     "model_module_version": "1.5.0",
     "model_name": "ProgressStyleModel",
     "state": {
      "_model_module": "@jupyter-widgets/controls",
      "_model_module_version": "1.5.0",
      "_model_name": "ProgressStyleModel",
      "_view_count": null,
      "_view_module": "@jupyter-widgets/base",
      "_view_module_version": "1.2.0",
      "_view_name": "StyleView",
      "bar_color": null,
      "description_width": ""
     }
    },
    "4db7413aeed343429505d1bcd32e5476": {
     "model_module": "@jupyter-widgets/controls",
     "model_module_version": "1.5.0",
     "model_name": "HBoxModel",
     "state": {
      "_dom_classes": [],
      "_model_module": "@jupyter-widgets/controls",
      "_model_module_version": "1.5.0",
      "_model_name": "HBoxModel",
      "_view_count": null,
      "_view_module": "@jupyter-widgets/controls",
      "_view_module_version": "1.5.0",
      "_view_name": "HBoxView",
      "box_style": "",
      "children": [
       "IPY_MODEL_c31dfe71e8cb436b85afc36627fb6cd4",
       "IPY_MODEL_88e0ff3735054ab091d7c81034ed220c",
       "IPY_MODEL_bee61af234294d75a58c0bdfde097a0d"
      ],
      "layout": "IPY_MODEL_886b8188b0f84912ad8a0c9dc6f444d4"
     }
    },
    "52b2487a949446c0a6d974a9ca2a1693": {
     "model_module": "@jupyter-widgets/controls",
     "model_module_version": "1.5.0",
     "model_name": "HBoxModel",
     "state": {
      "_dom_classes": [],
      "_model_module": "@jupyter-widgets/controls",
      "_model_module_version": "1.5.0",
      "_model_name": "HBoxModel",
      "_view_count": null,
      "_view_module": "@jupyter-widgets/controls",
      "_view_module_version": "1.5.0",
      "_view_name": "HBoxView",
      "box_style": "",
      "children": [
       "IPY_MODEL_ea1eb5471e1b4f60ab7715cfd25f6b55",
       "IPY_MODEL_977ebaf0000c4f60be18bdff053565a5",
       "IPY_MODEL_ff24361dab204b199c707c6bc34effa5"
      ],
      "layout": "IPY_MODEL_b885adff2c9c433f866650ca6496f442"
     }
    },
    "537e8a64880a4f8b905964c064e97ab4": {
     "model_module": "@jupyter-widgets/controls",
     "model_module_version": "1.5.0",
     "model_name": "HBoxModel",
     "state": {
      "_dom_classes": [],
      "_model_module": "@jupyter-widgets/controls",
      "_model_module_version": "1.5.0",
      "_model_name": "HBoxModel",
      "_view_count": null,
      "_view_module": "@jupyter-widgets/controls",
      "_view_module_version": "1.5.0",
      "_view_name": "HBoxView",
      "box_style": "",
      "children": [
       "IPY_MODEL_557c9de18b524708a78e440e17e9ceb5",
       "IPY_MODEL_44e50430fd4b46c4822e1a7417747aa2",
       "IPY_MODEL_18179a836e5140638d4ac4e34d701c2a"
      ],
      "layout": "IPY_MODEL_4100768a5bb6483a8b9b2b477a6a48ab"
     }
    },
    "557c9de18b524708a78e440e17e9ceb5": {
     "model_module": "@jupyter-widgets/controls",
     "model_module_version": "1.5.0",
     "model_name": "HTMLModel",
     "state": {
      "_dom_classes": [],
      "_model_module": "@jupyter-widgets/controls",
      "_model_module_version": "1.5.0",
      "_model_name": "HTMLModel",
      "_view_count": null,
      "_view_module": "@jupyter-widgets/controls",
      "_view_module_version": "1.5.0",
      "_view_name": "HTMLView",
      "description": "",
      "description_tooltip": null,
      "layout": "IPY_MODEL_645836eb9c1b4b8180a1026df37da321",
      "placeholder": "​",
      "style": "IPY_MODEL_fca787b09f1449d28d2eb686f335367c",
      "value": "Map:  99%"
     }
    },
    "5ae61bce531c456890519f0da2442b22": {
     "model_module": "@jupyter-widgets/controls",
     "model_module_version": "1.5.0",
     "model_name": "ProgressStyleModel",
     "state": {
      "_model_module": "@jupyter-widgets/controls",
      "_model_module_version": "1.5.0",
      "_model_name": "ProgressStyleModel",
      "_view_count": null,
      "_view_module": "@jupyter-widgets/base",
      "_view_module_version": "1.2.0",
      "_view_name": "StyleView",
      "bar_color": null,
      "description_width": ""
     }
    },
    "5f42ce67ea57412b9dd258f86f40b803": {
     "model_module": "@jupyter-widgets/base",
     "model_module_version": "1.2.0",
     "model_name": "LayoutModel",
     "state": {
      "_model_module": "@jupyter-widgets/base",
      "_model_module_version": "1.2.0",
      "_model_name": "LayoutModel",
      "_view_count": null,
      "_view_module": "@jupyter-widgets/base",
      "_view_module_version": "1.2.0",
      "_view_name": "LayoutView",
      "align_content": null,
      "align_items": null,
      "align_self": null,
      "border": null,
      "bottom": null,
      "display": null,
      "flex": null,
      "flex_flow": null,
      "grid_area": null,
      "grid_auto_columns": null,
      "grid_auto_flow": null,
      "grid_auto_rows": null,
      "grid_column": null,
      "grid_gap": null,
      "grid_row": null,
      "grid_template_areas": null,
      "grid_template_columns": null,
      "grid_template_rows": null,
      "height": null,
      "justify_content": null,
      "justify_items": null,
      "left": null,
      "margin": null,
      "max_height": null,
      "max_width": null,
      "min_height": null,
      "min_width": null,
      "object_fit": null,
      "object_position": null,
      "order": null,
      "overflow": null,
      "overflow_x": null,
      "overflow_y": null,
      "padding": null,
      "right": null,
      "top": null,
      "visibility": null,
      "width": null
     }
    },
    "613764dc374a4fb08ba892375dcbbfae": {
     "model_module": "@jupyter-widgets/base",
     "model_module_version": "1.2.0",
     "model_name": "LayoutModel",
     "state": {
      "_model_module": "@jupyter-widgets/base",
      "_model_module_version": "1.2.0",
      "_model_name": "LayoutModel",
      "_view_count": null,
      "_view_module": "@jupyter-widgets/base",
      "_view_module_version": "1.2.0",
      "_view_name": "LayoutView",
      "align_content": null,
      "align_items": null,
      "align_self": null,
      "border": null,
      "bottom": null,
      "display": null,
      "flex": null,
      "flex_flow": null,
      "grid_area": null,
      "grid_auto_columns": null,
      "grid_auto_flow": null,
      "grid_auto_rows": null,
      "grid_column": null,
      "grid_gap": null,
      "grid_row": null,
      "grid_template_areas": null,
      "grid_template_columns": null,
      "grid_template_rows": null,
      "height": null,
      "justify_content": null,
      "justify_items": null,
      "left": null,
      "margin": null,
      "max_height": null,
      "max_width": null,
      "min_height": null,
      "min_width": null,
      "object_fit": null,
      "object_position": null,
      "order": null,
      "overflow": null,
      "overflow_x": null,
      "overflow_y": null,
      "padding": null,
      "right": null,
      "top": null,
      "visibility": null,
      "width": null
     }
    },
    "645836eb9c1b4b8180a1026df37da321": {
     "model_module": "@jupyter-widgets/base",
     "model_module_version": "1.2.0",
     "model_name": "LayoutModel",
     "state": {
      "_model_module": "@jupyter-widgets/base",
      "_model_module_version": "1.2.0",
      "_model_name": "LayoutModel",
      "_view_count": null,
      "_view_module": "@jupyter-widgets/base",
      "_view_module_version": "1.2.0",
      "_view_name": "LayoutView",
      "align_content": null,
      "align_items": null,
      "align_self": null,
      "border": null,
      "bottom": null,
      "display": null,
      "flex": null,
      "flex_flow": null,
      "grid_area": null,
      "grid_auto_columns": null,
      "grid_auto_flow": null,
      "grid_auto_rows": null,
      "grid_column": null,
      "grid_gap": null,
      "grid_row": null,
      "grid_template_areas": null,
      "grid_template_columns": null,
      "grid_template_rows": null,
      "height": null,
      "justify_content": null,
      "justify_items": null,
      "left": null,
      "margin": null,
      "max_height": null,
      "max_width": null,
      "min_height": null,
      "min_width": null,
      "object_fit": null,
      "object_position": null,
      "order": null,
      "overflow": null,
      "overflow_x": null,
      "overflow_y": null,
      "padding": null,
      "right": null,
      "top": null,
      "visibility": null,
      "width": null
     }
    },
    "6ab5503b648c4e1b92972c502490063d": {
     "model_module": "@jupyter-widgets/controls",
     "model_module_version": "1.5.0",
     "model_name": "HTMLModel",
     "state": {
      "_dom_classes": [],
      "_model_module": "@jupyter-widgets/controls",
      "_model_module_version": "1.5.0",
      "_model_name": "HTMLModel",
      "_view_count": null,
      "_view_module": "@jupyter-widgets/controls",
      "_view_module_version": "1.5.0",
      "_view_name": "HTMLView",
      "description": "",
      "description_tooltip": null,
      "layout": "IPY_MODEL_cc201049f27549c393dc7c1ffe672cbb",
      "placeholder": "​",
      "style": "IPY_MODEL_ea367307b4b9455cab80be6037a714d8",
      "value": "Downloading data files: 100%"
     }
    },
    "6d4afddf26604ff8ada3b5451eb2d578": {
     "model_module": "@jupyter-widgets/controls",
     "model_module_version": "1.5.0",
     "model_name": "DescriptionStyleModel",
     "state": {
      "_model_module": "@jupyter-widgets/controls",
      "_model_module_version": "1.5.0",
      "_model_name": "DescriptionStyleModel",
      "_view_count": null,
      "_view_module": "@jupyter-widgets/base",
      "_view_module_version": "1.2.0",
      "_view_name": "StyleView",
      "description_width": ""
     }
    },
    "804da54878024dbebf9250adcd071624": {
     "model_module": "@jupyter-widgets/controls",
     "model_module_version": "1.5.0",
     "model_name": "FloatProgressModel",
     "state": {
      "_dom_classes": [],
      "_model_module": "@jupyter-widgets/controls",
      "_model_module_version": "1.5.0",
      "_model_name": "FloatProgressModel",
      "_view_count": null,
      "_view_module": "@jupyter-widgets/controls",
      "_view_module_version": "1.5.0",
      "_view_name": "ProgressView",
      "bar_style": "",
      "description": "",
      "description_tooltip": null,
      "layout": "IPY_MODEL_3880262c59f04b11b4ddc1f1fadc9e15",
      "max": 5048,
      "min": 0,
      "orientation": "horizontal",
      "style": "IPY_MODEL_95985479d6524bb58ae23e4565700ce4",
      "value": 5048
     }
    },
    "830deca1a7834c8081f38c0071c52847": {
     "model_module": "@jupyter-widgets/controls",
     "model_module_version": "1.5.0",
     "model_name": "HBoxModel",
     "state": {
      "_dom_classes": [],
      "_model_module": "@jupyter-widgets/controls",
      "_model_module_version": "1.5.0",
      "_model_name": "HBoxModel",
      "_view_count": null,
      "_view_module": "@jupyter-widgets/controls",
      "_view_module_version": "1.5.0",
      "_view_name": "HBoxView",
      "box_style": "",
      "children": [
       "IPY_MODEL_b45538c422d54d9894d88e9e4b316e83",
       "IPY_MODEL_0fec9f3eddf541608064238e63014a1f",
       "IPY_MODEL_e834f41a921341b3ac42f0379ab52d6b"
      ],
      "layout": "IPY_MODEL_931205ce76f04f258411ac2f2b85d455"
     }
    },
    "863d0debd2314afc84da19f52b09bcd1": {
     "model_module": "@jupyter-widgets/controls",
     "model_module_version": "1.5.0",
     "model_name": "HBoxModel",
     "state": {
      "_dom_classes": [],
      "_model_module": "@jupyter-widgets/controls",
      "_model_module_version": "1.5.0",
      "_model_name": "HBoxModel",
      "_view_count": null,
      "_view_module": "@jupyter-widgets/controls",
      "_view_module_version": "1.5.0",
      "_view_name": "HBoxView",
      "box_style": "",
      "children": [
       "IPY_MODEL_6ab5503b648c4e1b92972c502490063d",
       "IPY_MODEL_e3c0bf772e6642458ad6f1ddea6573f1",
       "IPY_MODEL_a65496e7ae764bb99aa48eb2897090b1"
      ],
      "layout": "IPY_MODEL_285e6f7e179b4a50ac147552e9308e6e"
     }
    },
    "86cccd190dbe4055b3cd7b48284b7bd2": {
     "model_module": "@jupyter-widgets/controls",
     "model_module_version": "1.5.0",
     "model_name": "DescriptionStyleModel",
     "state": {
      "_model_module": "@jupyter-widgets/controls",
      "_model_module_version": "1.5.0",
      "_model_name": "DescriptionStyleModel",
      "_view_count": null,
      "_view_module": "@jupyter-widgets/base",
      "_view_module_version": "1.2.0",
      "_view_name": "StyleView",
      "description_width": ""
     }
    },
    "886b8188b0f84912ad8a0c9dc6f444d4": {
     "model_module": "@jupyter-widgets/base",
     "model_module_version": "1.2.0",
     "model_name": "LayoutModel",
     "state": {
      "_model_module": "@jupyter-widgets/base",
      "_model_module_version": "1.2.0",
      "_model_name": "LayoutModel",
      "_view_count": null,
      "_view_module": "@jupyter-widgets/base",
      "_view_module_version": "1.2.0",
      "_view_name": "LayoutView",
      "align_content": null,
      "align_items": null,
      "align_self": null,
      "border": null,
      "bottom": null,
      "display": null,
      "flex": null,
      "flex_flow": null,
      "grid_area": null,
      "grid_auto_columns": null,
      "grid_auto_flow": null,
      "grid_auto_rows": null,
      "grid_column": null,
      "grid_gap": null,
      "grid_row": null,
      "grid_template_areas": null,
      "grid_template_columns": null,
      "grid_template_rows": null,
      "height": null,
      "justify_content": null,
      "justify_items": null,
      "left": null,
      "margin": null,
      "max_height": null,
      "max_width": null,
      "min_height": null,
      "min_width": null,
      "object_fit": null,
      "object_position": null,
      "order": null,
      "overflow": null,
      "overflow_x": null,
      "overflow_y": null,
      "padding": null,
      "right": null,
      "top": null,
      "visibility": "hidden",
      "width": null
     }
    },
    "88e0ff3735054ab091d7c81034ed220c": {
     "model_module": "@jupyter-widgets/controls",
     "model_module_version": "1.5.0",
     "model_name": "FloatProgressModel",
     "state": {
      "_dom_classes": [],
      "_model_module": "@jupyter-widgets/controls",
      "_model_module_version": "1.5.0",
      "_model_name": "FloatProgressModel",
      "_view_count": null,
      "_view_module": "@jupyter-widgets/controls",
      "_view_module_version": "1.5.0",
      "_view_name": "ProgressView",
      "bar_style": "",
      "description": "",
      "description_tooltip": null,
      "layout": "IPY_MODEL_202cd2e969404520a56ba25b82837297",
      "max": 45429,
      "min": 0,
      "orientation": "horizontal",
      "style": "IPY_MODEL_5ae61bce531c456890519f0da2442b22",
      "value": 45429
     }
    },
    "8a8245941d1342528796a87c14b11aa3": {
     "model_module": "@jupyter-widgets/controls",
     "model_module_version": "1.5.0",
     "model_name": "HTMLModel",
     "state": {
      "_dom_classes": [],
      "_model_module": "@jupyter-widgets/controls",
      "_model_module_version": "1.5.0",
      "_model_name": "HTMLModel",
      "_view_count": null,
      "_view_module": "@jupyter-widgets/controls",
      "_view_module_version": "1.5.0",
      "_view_name": "HTMLView",
      "description": "",
      "description_tooltip": null,
      "layout": "IPY_MODEL_3a0e3a3ef94845aeafb55b0b275abf55",
      "placeholder": "​",
      "style": "IPY_MODEL_ecc3e94a19d945c2a637da4a80afaa64",
      "value": " 2203094/0 [01:09&lt;00:00, 82272.69 examples/s]"
     }
    },
    "931205ce76f04f258411ac2f2b85d455": {
     "model_module": "@jupyter-widgets/base",
     "model_module_version": "1.2.0",
     "model_name": "LayoutModel",
     "state": {
      "_model_module": "@jupyter-widgets/base",
      "_model_module_version": "1.2.0",
      "_model_name": "LayoutModel",
      "_view_count": null,
      "_view_module": "@jupyter-widgets/base",
      "_view_module_version": "1.2.0",
      "_view_name": "LayoutView",
      "align_content": null,
      "align_items": null,
      "align_self": null,
      "border": null,
      "bottom": null,
      "display": null,
      "flex": null,
      "flex_flow": null,
      "grid_area": null,
      "grid_auto_columns": null,
      "grid_auto_flow": null,
      "grid_auto_rows": null,
      "grid_column": null,
      "grid_gap": null,
      "grid_row": null,
      "grid_template_areas": null,
      "grid_template_columns": null,
      "grid_template_rows": null,
      "height": null,
      "justify_content": null,
      "justify_items": null,
      "left": null,
      "margin": null,
      "max_height": null,
      "max_width": null,
      "min_height": null,
      "min_width": null,
      "object_fit": null,
      "object_position": null,
      "order": null,
      "overflow": null,
      "overflow_x": null,
      "overflow_y": null,
      "padding": null,
      "right": null,
      "top": null,
      "visibility": null,
      "width": null
     }
    },
    "95985479d6524bb58ae23e4565700ce4": {
     "model_module": "@jupyter-widgets/controls",
     "model_module_version": "1.5.0",
     "model_name": "ProgressStyleModel",
     "state": {
      "_model_module": "@jupyter-widgets/controls",
      "_model_module_version": "1.5.0",
      "_model_name": "ProgressStyleModel",
      "_view_count": null,
      "_view_module": "@jupyter-widgets/base",
      "_view_module_version": "1.2.0",
      "_view_name": "StyleView",
      "bar_color": null,
      "description_width": ""
     }
    },
    "977ebaf0000c4f60be18bdff053565a5": {
     "model_module": "@jupyter-widgets/controls",
     "model_module_version": "1.5.0",
     "model_name": "FloatProgressModel",
     "state": {
      "_dom_classes": [],
      "_model_module": "@jupyter-widgets/controls",
      "_model_module_version": "1.5.0",
      "_model_name": "FloatProgressModel",
      "_view_count": null,
      "_view_module": "@jupyter-widgets/controls",
      "_view_module_version": "1.5.0",
      "_view_name": "ProgressView",
      "bar_style": "",
      "description": "",
      "description_tooltip": null,
      "layout": "IPY_MODEL_613764dc374a4fb08ba892375dcbbfae",
      "max": 45429,
      "min": 0,
      "orientation": "horizontal",
      "style": "IPY_MODEL_df7ce5b943084aec88acac736bfb17ec",
      "value": 45429
     }
    },
    "9a393aff86e44923a658ec8175c55b9a": {
     "model_module": "@jupyter-widgets/base",
     "model_module_version": "1.2.0",
     "model_name": "LayoutModel",
     "state": {
      "_model_module": "@jupyter-widgets/base",
      "_model_module_version": "1.2.0",
      "_model_name": "LayoutModel",
      "_view_count": null,
      "_view_module": "@jupyter-widgets/base",
      "_view_module_version": "1.2.0",
      "_view_name": "LayoutView",
      "align_content": null,
      "align_items": null,
      "align_self": null,
      "border": null,
      "bottom": null,
      "display": null,
      "flex": null,
      "flex_flow": null,
      "grid_area": null,
      "grid_auto_columns": null,
      "grid_auto_flow": null,
      "grid_auto_rows": null,
      "grid_column": null,
      "grid_gap": null,
      "grid_row": null,
      "grid_template_areas": null,
      "grid_template_columns": null,
      "grid_template_rows": null,
      "height": null,
      "justify_content": null,
      "justify_items": null,
      "left": null,
      "margin": null,
      "max_height": null,
      "max_width": null,
      "min_height": null,
      "min_width": null,
      "object_fit": null,
      "object_position": null,
      "order": null,
      "overflow": null,
      "overflow_x": null,
      "overflow_y": null,
      "padding": null,
      "right": null,
      "top": null,
      "visibility": null,
      "width": null
     }
    },
    "a258601461594b87aa88c01a6f96057f": {
     "model_module": "@jupyter-widgets/controls",
     "model_module_version": "1.5.0",
     "model_name": "FloatProgressModel",
     "state": {
      "_dom_classes": [],
      "_model_module": "@jupyter-widgets/controls",
      "_model_module_version": "1.5.0",
      "_model_name": "FloatProgressModel",
      "_view_count": null,
      "_view_module": "@jupyter-widgets/controls",
      "_view_module_version": "1.5.0",
      "_view_name": "ProgressView",
      "bar_style": "info",
      "description": "",
      "description_tooltip": null,
      "layout": "IPY_MODEL_a85441508a9c4491b2fd8bb6159016d9",
      "max": 1,
      "min": 0,
      "orientation": "horizontal",
      "style": "IPY_MODEL_4b1f12735f774c099a318efc1357794d",
      "value": 1
     }
    },
    "a480a8581d374817a9e5bf5c58a68ed0": {
     "model_module": "@jupyter-widgets/controls",
     "model_module_version": "1.5.0",
     "model_name": "DescriptionStyleModel",
     "state": {
      "_model_module": "@jupyter-widgets/controls",
      "_model_module_version": "1.5.0",
      "_model_name": "DescriptionStyleModel",
      "_view_count": null,
      "_view_module": "@jupyter-widgets/base",
      "_view_module_version": "1.2.0",
      "_view_name": "StyleView",
      "description_width": ""
     }
    },
    "a50d837c8ead4b56ab54363171d80934": {
     "model_module": "@jupyter-widgets/controls",
     "model_module_version": "1.5.0",
     "model_name": "ProgressStyleModel",
     "state": {
      "_model_module": "@jupyter-widgets/controls",
      "_model_module_version": "1.5.0",
      "_model_name": "ProgressStyleModel",
      "_view_count": null,
      "_view_module": "@jupyter-widgets/base",
      "_view_module_version": "1.2.0",
      "_view_name": "StyleView",
      "bar_color": null,
      "description_width": ""
     }
    },
    "a65496e7ae764bb99aa48eb2897090b1": {
     "model_module": "@jupyter-widgets/controls",
     "model_module_version": "1.5.0",
     "model_name": "HTMLModel",
     "state": {
      "_dom_classes": [],
      "_model_module": "@jupyter-widgets/controls",
      "_model_module_version": "1.5.0",
      "_model_name": "HTMLModel",
      "_view_count": null,
      "_view_module": "@jupyter-widgets/controls",
      "_view_module_version": "1.5.0",
      "_view_name": "HTMLView",
      "description": "",
      "description_tooltip": null,
      "layout": "IPY_MODEL_ba2f902b13a04647ad2d9fdda6eb7454",
      "placeholder": "​",
      "style": "IPY_MODEL_6d4afddf26604ff8ada3b5451eb2d578",
      "value": " 1/1 [00:00&lt;00:00, 54.87it/s]"
     }
    },
    "a85441508a9c4491b2fd8bb6159016d9": {
     "model_module": "@jupyter-widgets/base",
     "model_module_version": "1.2.0",
     "model_name": "LayoutModel",
     "state": {
      "_model_module": "@jupyter-widgets/base",
      "_model_module_version": "1.2.0",
      "_model_name": "LayoutModel",
      "_view_count": null,
      "_view_module": "@jupyter-widgets/base",
      "_view_module_version": "1.2.0",
      "_view_name": "LayoutView",
      "align_content": null,
      "align_items": null,
      "align_self": null,
      "border": null,
      "bottom": null,
      "display": null,
      "flex": null,
      "flex_flow": null,
      "grid_area": null,
      "grid_auto_columns": null,
      "grid_auto_flow": null,
      "grid_auto_rows": null,
      "grid_column": null,
      "grid_gap": null,
      "grid_row": null,
      "grid_template_areas": null,
      "grid_template_columns": null,
      "grid_template_rows": null,
      "height": null,
      "justify_content": null,
      "justify_items": null,
      "left": null,
      "margin": null,
      "max_height": null,
      "max_width": null,
      "min_height": null,
      "min_width": null,
      "object_fit": null,
      "object_position": null,
      "order": null,
      "overflow": null,
      "overflow_x": null,
      "overflow_y": null,
      "padding": null,
      "right": null,
      "top": null,
      "visibility": null,
      "width": "20px"
     }
    },
    "ac1728b8dbed4d269188d03aeabf48ad": {
     "model_module": "@jupyter-widgets/base",
     "model_module_version": "1.2.0",
     "model_name": "LayoutModel",
     "state": {
      "_model_module": "@jupyter-widgets/base",
      "_model_module_version": "1.2.0",
      "_model_name": "LayoutModel",
      "_view_count": null,
      "_view_module": "@jupyter-widgets/base",
      "_view_module_version": "1.2.0",
      "_view_name": "LayoutView",
      "align_content": null,
      "align_items": null,
      "align_self": null,
      "border": null,
      "bottom": null,
      "display": null,
      "flex": null,
      "flex_flow": null,
      "grid_area": null,
      "grid_auto_columns": null,
      "grid_auto_flow": null,
      "grid_auto_rows": null,
      "grid_column": null,
      "grid_gap": null,
      "grid_row": null,
      "grid_template_areas": null,
      "grid_template_columns": null,
      "grid_template_rows": null,
      "height": null,
      "justify_content": null,
      "justify_items": null,
      "left": null,
      "margin": null,
      "max_height": null,
      "max_width": null,
      "min_height": null,
      "min_width": null,
      "object_fit": null,
      "object_position": null,
      "order": null,
      "overflow": null,
      "overflow_x": null,
      "overflow_y": null,
      "padding": null,
      "right": null,
      "top": null,
      "visibility": "hidden",
      "width": null
     }
    },
    "ac7f4daf777d405da2f3f84ef9bd3f8d": {
     "model_module": "@jupyter-widgets/controls",
     "model_module_version": "1.5.0",
     "model_name": "DescriptionStyleModel",
     "state": {
      "_model_module": "@jupyter-widgets/controls",
      "_model_module_version": "1.5.0",
      "_model_name": "DescriptionStyleModel",
      "_view_count": null,
      "_view_module": "@jupyter-widgets/base",
      "_view_module_version": "1.2.0",
      "_view_name": "StyleView",
      "description_width": ""
     }
    },
    "afab1ce894d54e8f92505ebe88af03b3": {
     "model_module": "@jupyter-widgets/controls",
     "model_module_version": "1.5.0",
     "model_name": "ProgressStyleModel",
     "state": {
      "_model_module": "@jupyter-widgets/controls",
      "_model_module_version": "1.5.0",
      "_model_name": "ProgressStyleModel",
      "_view_count": null,
      "_view_module": "@jupyter-widgets/base",
      "_view_module_version": "1.2.0",
      "_view_name": "StyleView",
      "bar_color": null,
      "description_width": ""
     }
    },
    "b45538c422d54d9894d88e9e4b316e83": {
     "model_module": "@jupyter-widgets/controls",
     "model_module_version": "1.5.0",
     "model_name": "HTMLModel",
     "state": {
      "_dom_classes": [],
      "_model_module": "@jupyter-widgets/controls",
      "_model_module_version": "1.5.0",
      "_model_name": "HTMLModel",
      "_view_count": null,
      "_view_module": "@jupyter-widgets/controls",
      "_view_module_version": "1.5.0",
      "_view_name": "HTMLView",
      "description": "",
      "description_tooltip": null,
      "layout": "IPY_MODEL_d88b2e41f8084e3da07a152138856165",
      "placeholder": "​",
      "style": "IPY_MODEL_d56463e891bd44a18512b36787b2fd5e",
      "value": "Extracting data files: 100%"
     }
    },
    "b885adff2c9c433f866650ca6496f442": {
     "model_module": "@jupyter-widgets/base",
     "model_module_version": "1.2.0",
     "model_name": "LayoutModel",
     "state": {
      "_model_module": "@jupyter-widgets/base",
      "_model_module_version": "1.2.0",
      "_model_name": "LayoutModel",
      "_view_count": null,
      "_view_module": "@jupyter-widgets/base",
      "_view_module_version": "1.2.0",
      "_view_name": "LayoutView",
      "align_content": null,
      "align_items": null,
      "align_self": null,
      "border": null,
      "bottom": null,
      "display": null,
      "flex": null,
      "flex_flow": null,
      "grid_area": null,
      "grid_auto_columns": null,
      "grid_auto_flow": null,
      "grid_auto_rows": null,
      "grid_column": null,
      "grid_gap": null,
      "grid_row": null,
      "grid_template_areas": null,
      "grid_template_columns": null,
      "grid_template_rows": null,
      "height": null,
      "justify_content": null,
      "justify_items": null,
      "left": null,
      "margin": null,
      "max_height": null,
      "max_width": null,
      "min_height": null,
      "min_width": null,
      "object_fit": null,
      "object_position": null,
      "order": null,
      "overflow": null,
      "overflow_x": null,
      "overflow_y": null,
      "padding": null,
      "right": null,
      "top": null,
      "visibility": "hidden",
      "width": null
     }
    },
    "b8eb8de3496c4db4be8985c113d32f5c": {
     "model_module": "@jupyter-widgets/base",
     "model_module_version": "1.2.0",
     "model_name": "LayoutModel",
     "state": {
      "_model_module": "@jupyter-widgets/base",
      "_model_module_version": "1.2.0",
      "_model_name": "LayoutModel",
      "_view_count": null,
      "_view_module": "@jupyter-widgets/base",
      "_view_module_version": "1.2.0",
      "_view_name": "LayoutView",
      "align_content": null,
      "align_items": null,
      "align_self": null,
      "border": null,
      "bottom": null,
      "display": null,
      "flex": null,
      "flex_flow": null,
      "grid_area": null,
      "grid_auto_columns": null,
      "grid_auto_flow": null,
      "grid_auto_rows": null,
      "grid_column": null,
      "grid_gap": null,
      "grid_row": null,
      "grid_template_areas": null,
      "grid_template_columns": null,
      "grid_template_rows": null,
      "height": null,
      "justify_content": null,
      "justify_items": null,
      "left": null,
      "margin": null,
      "max_height": null,
      "max_width": null,
      "min_height": null,
      "min_width": null,
      "object_fit": null,
      "object_position": null,
      "order": null,
      "overflow": null,
      "overflow_x": null,
      "overflow_y": null,
      "padding": null,
      "right": null,
      "top": null,
      "visibility": null,
      "width": null
     }
    },
    "ba2f902b13a04647ad2d9fdda6eb7454": {
     "model_module": "@jupyter-widgets/base",
     "model_module_version": "1.2.0",
     "model_name": "LayoutModel",
     "state": {
      "_model_module": "@jupyter-widgets/base",
      "_model_module_version": "1.2.0",
      "_model_name": "LayoutModel",
      "_view_count": null,
      "_view_module": "@jupyter-widgets/base",
      "_view_module_version": "1.2.0",
      "_view_name": "LayoutView",
      "align_content": null,
      "align_items": null,
      "align_self": null,
      "border": null,
      "bottom": null,
      "display": null,
      "flex": null,
      "flex_flow": null,
      "grid_area": null,
      "grid_auto_columns": null,
      "grid_auto_flow": null,
      "grid_auto_rows": null,
      "grid_column": null,
      "grid_gap": null,
      "grid_row": null,
      "grid_template_areas": null,
      "grid_template_columns": null,
      "grid_template_rows": null,
      "height": null,
      "justify_content": null,
      "justify_items": null,
      "left": null,
      "margin": null,
      "max_height": null,
      "max_width": null,
      "min_height": null,
      "min_width": null,
      "object_fit": null,
      "object_position": null,
      "order": null,
      "overflow": null,
      "overflow_x": null,
      "overflow_y": null,
      "padding": null,
      "right": null,
      "top": null,
      "visibility": null,
      "width": null
     }
    },
    "bee61af234294d75a58c0bdfde097a0d": {
     "model_module": "@jupyter-widgets/controls",
     "model_module_version": "1.5.0",
     "model_name": "HTMLModel",
     "state": {
      "_dom_classes": [],
      "_model_module": "@jupyter-widgets/controls",
      "_model_module_version": "1.5.0",
      "_model_name": "HTMLModel",
      "_view_count": null,
      "_view_module": "@jupyter-widgets/controls",
      "_view_module_version": "1.5.0",
      "_view_name": "HTMLView",
      "description": "",
      "description_tooltip": null,
      "layout": "IPY_MODEL_1f3c1ad02d3d41c8a3fd81d723afd4f2",
      "placeholder": "​",
      "style": "IPY_MODEL_fc280e1361344977aaddcacc4e19e70e",
      "value": " 45000/45429 [00:02&lt;00:00, 16830.16 examples/s]"
     }
    },
    "c17c80525b3942c9b8757944d122fc84": {
     "model_module": "@jupyter-widgets/base",
     "model_module_version": "1.2.0",
     "model_name": "LayoutModel",
     "state": {
      "_model_module": "@jupyter-widgets/base",
      "_model_module_version": "1.2.0",
      "_model_name": "LayoutModel",
      "_view_count": null,
      "_view_module": "@jupyter-widgets/base",
      "_view_module_version": "1.2.0",
      "_view_name": "LayoutView",
      "align_content": null,
      "align_items": null,
      "align_self": null,
      "border": null,
      "bottom": null,
      "display": null,
      "flex": null,
      "flex_flow": null,
      "grid_area": null,
      "grid_auto_columns": null,
      "grid_auto_flow": null,
      "grid_auto_rows": null,
      "grid_column": null,
      "grid_gap": null,
      "grid_row": null,
      "grid_template_areas": null,
      "grid_template_columns": null,
      "grid_template_rows": null,
      "height": null,
      "justify_content": null,
      "justify_items": null,
      "left": null,
      "margin": null,
      "max_height": null,
      "max_width": null,
      "min_height": null,
      "min_width": null,
      "object_fit": null,
      "object_position": null,
      "order": null,
      "overflow": null,
      "overflow_x": null,
      "overflow_y": null,
      "padding": null,
      "right": null,
      "top": null,
      "visibility": null,
      "width": null
     }
    },
    "c31dfe71e8cb436b85afc36627fb6cd4": {
     "model_module": "@jupyter-widgets/controls",
     "model_module_version": "1.5.0",
     "model_name": "HTMLModel",
     "state": {
      "_dom_classes": [],
      "_model_module": "@jupyter-widgets/controls",
      "_model_module_version": "1.5.0",
      "_model_name": "HTMLModel",
      "_view_count": null,
      "_view_module": "@jupyter-widgets/controls",
      "_view_module_version": "1.5.0",
      "_view_name": "HTMLView",
      "description": "",
      "description_tooltip": null,
      "layout": "IPY_MODEL_4934d7a261684257868b2f6ab36f1712",
      "placeholder": "​",
      "style": "IPY_MODEL_86cccd190dbe4055b3cd7b48284b7bd2",
      "value": "Map:  99%"
     }
    },
    "cc201049f27549c393dc7c1ffe672cbb": {
     "model_module": "@jupyter-widgets/base",
     "model_module_version": "1.2.0",
     "model_name": "LayoutModel",
     "state": {
      "_model_module": "@jupyter-widgets/base",
      "_model_module_version": "1.2.0",
      "_model_name": "LayoutModel",
      "_view_count": null,
      "_view_module": "@jupyter-widgets/base",
      "_view_module_version": "1.2.0",
      "_view_name": "LayoutView",
      "align_content": null,
      "align_items": null,
      "align_self": null,
      "border": null,
      "bottom": null,
      "display": null,
      "flex": null,
      "flex_flow": null,
      "grid_area": null,
      "grid_auto_columns": null,
      "grid_auto_flow": null,
      "grid_auto_rows": null,
      "grid_column": null,
      "grid_gap": null,
      "grid_row": null,
      "grid_template_areas": null,
      "grid_template_columns": null,
      "grid_template_rows": null,
      "height": null,
      "justify_content": null,
      "justify_items": null,
      "left": null,
      "margin": null,
      "max_height": null,
      "max_width": null,
      "min_height": null,
      "min_width": null,
      "object_fit": null,
      "object_position": null,
      "order": null,
      "overflow": null,
      "overflow_x": null,
      "overflow_y": null,
      "padding": null,
      "right": null,
      "top": null,
      "visibility": null,
      "width": null
     }
    },
    "ce62588348e94c968b93ab513c2640fd": {
     "model_module": "@jupyter-widgets/base",
     "model_module_version": "1.2.0",
     "model_name": "LayoutModel",
     "state": {
      "_model_module": "@jupyter-widgets/base",
      "_model_module_version": "1.2.0",
      "_model_name": "LayoutModel",
      "_view_count": null,
      "_view_module": "@jupyter-widgets/base",
      "_view_module_version": "1.2.0",
      "_view_name": "LayoutView",
      "align_content": null,
      "align_items": null,
      "align_self": null,
      "border": null,
      "bottom": null,
      "display": null,
      "flex": null,
      "flex_flow": null,
      "grid_area": null,
      "grid_auto_columns": null,
      "grid_auto_flow": null,
      "grid_auto_rows": null,
      "grid_column": null,
      "grid_gap": null,
      "grid_row": null,
      "grid_template_areas": null,
      "grid_template_columns": null,
      "grid_template_rows": null,
      "height": null,
      "justify_content": null,
      "justify_items": null,
      "left": null,
      "margin": null,
      "max_height": null,
      "max_width": null,
      "min_height": null,
      "min_width": null,
      "object_fit": null,
      "object_position": null,
      "order": null,
      "overflow": null,
      "overflow_x": null,
      "overflow_y": null,
      "padding": null,
      "right": null,
      "top": null,
      "visibility": null,
      "width": null
     }
    },
    "d56463e891bd44a18512b36787b2fd5e": {
     "model_module": "@jupyter-widgets/controls",
     "model_module_version": "1.5.0",
     "model_name": "DescriptionStyleModel",
     "state": {
      "_model_module": "@jupyter-widgets/controls",
      "_model_module_version": "1.5.0",
      "_model_name": "DescriptionStyleModel",
      "_view_count": null,
      "_view_module": "@jupyter-widgets/base",
      "_view_module_version": "1.2.0",
      "_view_name": "StyleView",
      "description_width": ""
     }
    },
    "d7dfedfd61ee4c76951b57eaba0a8290": {
     "model_module": "@jupyter-widgets/base",
     "model_module_version": "1.2.0",
     "model_name": "LayoutModel",
     "state": {
      "_model_module": "@jupyter-widgets/base",
      "_model_module_version": "1.2.0",
      "_model_name": "LayoutModel",
      "_view_count": null,
      "_view_module": "@jupyter-widgets/base",
      "_view_module_version": "1.2.0",
      "_view_name": "LayoutView",
      "align_content": null,
      "align_items": null,
      "align_self": null,
      "border": null,
      "bottom": null,
      "display": null,
      "flex": null,
      "flex_flow": null,
      "grid_area": null,
      "grid_auto_columns": null,
      "grid_auto_flow": null,
      "grid_auto_rows": null,
      "grid_column": null,
      "grid_gap": null,
      "grid_row": null,
      "grid_template_areas": null,
      "grid_template_columns": null,
      "grid_template_rows": null,
      "height": null,
      "justify_content": null,
      "justify_items": null,
      "left": null,
      "margin": null,
      "max_height": null,
      "max_width": null,
      "min_height": null,
      "min_width": null,
      "object_fit": null,
      "object_position": null,
      "order": null,
      "overflow": null,
      "overflow_x": null,
      "overflow_y": null,
      "padding": null,
      "right": null,
      "top": null,
      "visibility": null,
      "width": null
     }
    },
    "d88b2e41f8084e3da07a152138856165": {
     "model_module": "@jupyter-widgets/base",
     "model_module_version": "1.2.0",
     "model_name": "LayoutModel",
     "state": {
      "_model_module": "@jupyter-widgets/base",
      "_model_module_version": "1.2.0",
      "_model_name": "LayoutModel",
      "_view_count": null,
      "_view_module": "@jupyter-widgets/base",
      "_view_module_version": "1.2.0",
      "_view_name": "LayoutView",
      "align_content": null,
      "align_items": null,
      "align_self": null,
      "border": null,
      "bottom": null,
      "display": null,
      "flex": null,
      "flex_flow": null,
      "grid_area": null,
      "grid_auto_columns": null,
      "grid_auto_flow": null,
      "grid_auto_rows": null,
      "grid_column": null,
      "grid_gap": null,
      "grid_row": null,
      "grid_template_areas": null,
      "grid_template_columns": null,
      "grid_template_rows": null,
      "height": null,
      "justify_content": null,
      "justify_items": null,
      "left": null,
      "margin": null,
      "max_height": null,
      "max_width": null,
      "min_height": null,
      "min_width": null,
      "object_fit": null,
      "object_position": null,
      "order": null,
      "overflow": null,
      "overflow_x": null,
      "overflow_y": null,
      "padding": null,
      "right": null,
      "top": null,
      "visibility": null,
      "width": null
     }
    },
    "df7ce5b943084aec88acac736bfb17ec": {
     "model_module": "@jupyter-widgets/controls",
     "model_module_version": "1.5.0",
     "model_name": "ProgressStyleModel",
     "state": {
      "_model_module": "@jupyter-widgets/controls",
      "_model_module_version": "1.5.0",
      "_model_name": "ProgressStyleModel",
      "_view_count": null,
      "_view_module": "@jupyter-widgets/base",
      "_view_module_version": "1.2.0",
      "_view_name": "StyleView",
      "bar_color": null,
      "description_width": ""
     }
    },
    "e3c0bf772e6642458ad6f1ddea6573f1": {
     "model_module": "@jupyter-widgets/controls",
     "model_module_version": "1.5.0",
     "model_name": "FloatProgressModel",
     "state": {
      "_dom_classes": [],
      "_model_module": "@jupyter-widgets/controls",
      "_model_module_version": "1.5.0",
      "_model_name": "FloatProgressModel",
      "_view_count": null,
      "_view_module": "@jupyter-widgets/controls",
      "_view_module_version": "1.5.0",
      "_view_name": "ProgressView",
      "bar_style": "success",
      "description": "",
      "description_tooltip": null,
      "layout": "IPY_MODEL_ce62588348e94c968b93ab513c2640fd",
      "max": 1,
      "min": 0,
      "orientation": "horizontal",
      "style": "IPY_MODEL_a50d837c8ead4b56ab54363171d80934",
      "value": 1
     }
    },
    "e834f41a921341b3ac42f0379ab52d6b": {
     "model_module": "@jupyter-widgets/controls",
     "model_module_version": "1.5.0",
     "model_name": "HTMLModel",
     "state": {
      "_dom_classes": [],
      "_model_module": "@jupyter-widgets/controls",
      "_model_module_version": "1.5.0",
      "_model_name": "HTMLModel",
      "_view_count": null,
      "_view_module": "@jupyter-widgets/controls",
      "_view_module_version": "1.5.0",
      "_view_name": "HTMLView",
      "description": "",
      "description_tooltip": null,
      "layout": "IPY_MODEL_31cb4be8aaf3403887b1225eee419649",
      "placeholder": "​",
      "style": "IPY_MODEL_13cd2ccfc27b4687b47e424efffaea3c",
      "value": " 1/1 [00:00&lt;00:00, 14.63it/s]"
     }
    },
    "ea1eb5471e1b4f60ab7715cfd25f6b55": {
     "model_module": "@jupyter-widgets/controls",
     "model_module_version": "1.5.0",
     "model_name": "HTMLModel",
     "state": {
      "_dom_classes": [],
      "_model_module": "@jupyter-widgets/controls",
      "_model_module_version": "1.5.0",
      "_model_name": "HTMLModel",
      "_view_count": null,
      "_view_module": "@jupyter-widgets/controls",
      "_view_module_version": "1.5.0",
      "_view_name": "HTMLView",
      "description": "",
      "description_tooltip": null,
      "layout": "IPY_MODEL_0da57b5b93a546348ef21c9626e7961e",
      "placeholder": "​",
      "style": "IPY_MODEL_2406e686cacc4473abe8a5a776b1c6aa",
      "value": "Map:  99%"
     }
    },
    "ea367307b4b9455cab80be6037a714d8": {
     "model_module": "@jupyter-widgets/controls",
     "model_module_version": "1.5.0",
     "model_name": "DescriptionStyleModel",
     "state": {
      "_model_module": "@jupyter-widgets/controls",
      "_model_module_version": "1.5.0",
      "_model_name": "DescriptionStyleModel",
      "_view_count": null,
      "_view_module": "@jupyter-widgets/base",
      "_view_module_version": "1.2.0",
      "_view_name": "StyleView",
      "description_width": ""
     }
    },
    "ecc3e94a19d945c2a637da4a80afaa64": {
     "model_module": "@jupyter-widgets/controls",
     "model_module_version": "1.5.0",
     "model_name": "DescriptionStyleModel",
     "state": {
      "_model_module": "@jupyter-widgets/controls",
      "_model_module_version": "1.5.0",
      "_model_name": "DescriptionStyleModel",
      "_view_count": null,
      "_view_module": "@jupyter-widgets/base",
      "_view_module_version": "1.2.0",
      "_view_name": "StyleView",
      "description_width": ""
     }
    },
    "efef9722443e481b87daf74f9fdfa6c2": {
     "model_module": "@jupyter-widgets/base",
     "model_module_version": "1.2.0",
     "model_name": "LayoutModel",
     "state": {
      "_model_module": "@jupyter-widgets/base",
      "_model_module_version": "1.2.0",
      "_model_name": "LayoutModel",
      "_view_count": null,
      "_view_module": "@jupyter-widgets/base",
      "_view_module_version": "1.2.0",
      "_view_name": "LayoutView",
      "align_content": null,
      "align_items": null,
      "align_self": null,
      "border": null,
      "bottom": null,
      "display": null,
      "flex": null,
      "flex_flow": null,
      "grid_area": null,
      "grid_auto_columns": null,
      "grid_auto_flow": null,
      "grid_auto_rows": null,
      "grid_column": null,
      "grid_gap": null,
      "grid_row": null,
      "grid_template_areas": null,
      "grid_template_columns": null,
      "grid_template_rows": null,
      "height": null,
      "justify_content": null,
      "justify_items": null,
      "left": null,
      "margin": null,
      "max_height": null,
      "max_width": null,
      "min_height": null,
      "min_width": null,
      "object_fit": null,
      "object_position": null,
      "order": null,
      "overflow": null,
      "overflow_x": null,
      "overflow_y": null,
      "padding": null,
      "right": null,
      "top": null,
      "visibility": null,
      "width": null
     }
    },
    "f9cfb4eb47794c8c9e97d64942b2033b": {
     "model_module": "@jupyter-widgets/controls",
     "model_module_version": "1.5.0",
     "model_name": "HTMLModel",
     "state": {
      "_dom_classes": [],
      "_model_module": "@jupyter-widgets/controls",
      "_model_module_version": "1.5.0",
      "_model_name": "HTMLModel",
      "_view_count": null,
      "_view_module": "@jupyter-widgets/controls",
      "_view_module_version": "1.5.0",
      "_view_name": "HTMLView",
      "description": "",
      "description_tooltip": null,
      "layout": "IPY_MODEL_462e51d433764bbaab4b0d7ffa4144be",
      "placeholder": "​",
      "style": "IPY_MODEL_ac7f4daf777d405da2f3f84ef9bd3f8d",
      "value": "Generating train split: "
     }
    },
    "fc280e1361344977aaddcacc4e19e70e": {
     "model_module": "@jupyter-widgets/controls",
     "model_module_version": "1.5.0",
     "model_name": "DescriptionStyleModel",
     "state": {
      "_model_module": "@jupyter-widgets/controls",
      "_model_module_version": "1.5.0",
      "_model_name": "DescriptionStyleModel",
      "_view_count": null,
      "_view_module": "@jupyter-widgets/base",
      "_view_module_version": "1.2.0",
      "_view_name": "StyleView",
      "description_width": ""
     }
    },
    "fca787b09f1449d28d2eb686f335367c": {
     "model_module": "@jupyter-widgets/controls",
     "model_module_version": "1.5.0",
     "model_name": "DescriptionStyleModel",
     "state": {
      "_model_module": "@jupyter-widgets/controls",
      "_model_module_version": "1.5.0",
      "_model_name": "DescriptionStyleModel",
      "_view_count": null,
      "_view_module": "@jupyter-widgets/base",
      "_view_module_version": "1.2.0",
      "_view_name": "StyleView",
      "description_width": ""
     }
    },
    "ff24361dab204b199c707c6bc34effa5": {
     "model_module": "@jupyter-widgets/controls",
     "model_module_version": "1.5.0",
     "model_name": "HTMLModel",
     "state": {
      "_dom_classes": [],
      "_model_module": "@jupyter-widgets/controls",
      "_model_module_version": "1.5.0",
      "_model_name": "HTMLModel",
      "_view_count": null,
      "_view_module": "@jupyter-widgets/controls",
      "_view_module_version": "1.5.0",
      "_view_name": "HTMLView",
      "description": "",
      "description_tooltip": null,
      "layout": "IPY_MODEL_efef9722443e481b87daf74f9fdfa6c2",
      "placeholder": "​",
      "style": "IPY_MODEL_0cfa19c9464748c780620f37a5796ce6",
      "value": " 44928/45429 [00:03&lt;00:00, 12146.29 examples/s]"
     }
    }
   }
  }
 },
 "nbformat": 4,
 "nbformat_minor": 4
}
